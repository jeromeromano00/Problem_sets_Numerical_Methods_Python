{
 "cells": [
  {
   "cell_type": "markdown",
   "id": "c1820619",
   "metadata": {},
   "source": [
    "1. Define a function max() that takes two numbers as arguments and returns the largest\n",
    "of them. Use the if-then-else construct available in Python. (It is true that Python\n",
    "has the max() function built in, but writing it yourself is nevertheless a good exercise.)\n"
   ]
  },
  {
   "cell_type": "code",
   "execution_count": 1,
   "id": "4a59f4fe",
   "metadata": {},
   "outputs": [],
   "source": [
    "def maxx(num1,num2):\n",
    "    if num1>num2:\n",
    "        print(\"il primo numero è maggiore del secondo\")\n",
    "    elif num2>num1:\n",
    "        print(\"il secondo numero è maggiore del primo\")\n",
    "    else :\n",
    "        print(\" i due numeri sono uguali\")\n"
   ]
  },
  {
   "cell_type": "code",
   "execution_count": 2,
   "id": "77266ece",
   "metadata": {},
   "outputs": [
    {
     "data": {
      "text/plain": [
       "5"
      ]
     },
     "execution_count": 2,
     "metadata": {},
     "output_type": "execute_result"
    }
   ],
   "source": [
    "max(3,5)"
   ]
  },
  {
   "cell_type": "markdown",
   "id": "b7b836ed",
   "metadata": {},
   "source": [
    "2. Define a function max of three() that takes three numbers as arguments and returns\n",
    "the largest of them.\n"
   ]
  },
  {
   "cell_type": "code",
   "execution_count": 3,
   "id": "656db73a",
   "metadata": {},
   "outputs": [],
   "source": [
    "def max_of_three(num1,num2,num3):\n",
    "    if num1>num2 & num1>num3:\n",
    "        print(num1)\n",
    "    elif num2>num3 & num2>num1:\n",
    "        print(num2)\n",
    "    elif num3>num1 & num3>num2:\n",
    "        print(num3)\n",
    "    else:\n",
    "        print(\"i numeri sono tutti uguali : \", num1 )\n",
    "        "
   ]
  },
  {
   "cell_type": "code",
   "execution_count": 4,
   "id": "42eb5950",
   "metadata": {},
   "outputs": [
    {
     "name": "stdout",
     "output_type": "stream",
     "text": [
      "30\n"
     ]
    }
   ],
   "source": [
    "max_of_three(2,30,-5)"
   ]
  },
  {
   "cell_type": "markdown",
   "id": "6c3fe98d",
   "metadata": {},
   "source": [
    "3. Define a function that computes the length of a given list or string. (It is true that\n",
    "Python has the len() function built in, but writing it yourself is nevertheless a good\n",
    "exercise.)\n"
   ]
  },
  {
   "cell_type": "code",
   "execution_count": 5,
   "id": "55da0392",
   "metadata": {},
   "outputs": [],
   "source": [
    "def leng(z):\n",
    "    base = 0\n",
    "    for j in z:\n",
    "        base += 1\n",
    "    print(base)"
   ]
  },
  {
   "cell_type": "code",
   "execution_count": 6,
   "id": "cff21cca",
   "metadata": {},
   "outputs": [
    {
     "name": "stdout",
     "output_type": "stream",
     "text": [
      "3\n",
      "6\n"
     ]
    }
   ],
   "source": [
    "leng([\"blu\",\"verde\",\"giallo\"])\n",
    "leng(\"giallo\")"
   ]
  },
  {
   "cell_type": "markdown",
   "id": "d3cb7129",
   "metadata": {},
   "source": [
    "4. Write a function that takes a character (i.e. a string of length 1) and returns True if\n",
    "it is a vowel, False otherwise."
   ]
  },
  {
   "cell_type": "code",
   "execution_count": 7,
   "id": "6e8e5ff0",
   "metadata": {},
   "outputs": [],
   "source": [
    "def char_judge(z):\n",
    "    if z== \"a\":\n",
    "        print(bool(1))\n",
    "    elif z== \"e\":\n",
    "        print(bool(1))\n",
    "    elif z== \"i\":\n",
    "        print(bool(1))\n",
    "    elif z== \"o\":\n",
    "        print(bool(1))\n",
    "    elif z== \"u\":\n",
    "        print(bool(1))\n",
    "    else:\n",
    "        print(bool(0))"
   ]
  },
  {
   "cell_type": "code",
   "execution_count": 8,
   "id": "ed562caf",
   "metadata": {},
   "outputs": [
    {
     "name": "stdout",
     "output_type": "stream",
     "text": [
      "True\n",
      "False\n"
     ]
    }
   ],
   "source": [
    "char_judge(\"a\")\n",
    "char_judge(\"b\")"
   ]
  },
  {
   "cell_type": "markdown",
   "id": "6da32412",
   "metadata": {},
   "source": [
    "5. Define a function sum() and a function multiply() that sums and multiplies (respectively) all the numbers in a list of numbers. For example, sum([1, 2, 3, 4]) should\n",
    "return 10, and multiply([1, 2, 3, 4]) should return 24"
   ]
  },
  {
   "cell_type": "code",
   "execution_count": 9,
   "id": "685415fd",
   "metadata": {},
   "outputs": [],
   "source": [
    "def summ(z):\n",
    "    base = 0\n",
    "    for j in z:\n",
    "        base += j\n",
    "    print(base)\n",
    "\n",
    "    \n",
    "def multiply(z):\n",
    "    base = 1\n",
    "    for j in z:\n",
    "        base *= j\n",
    "    print(base)"
   ]
  },
  {
   "cell_type": "code",
   "execution_count": 10,
   "id": "475ba45b",
   "metadata": {},
   "outputs": [
    {
     "name": "stdout",
     "output_type": "stream",
     "text": [
      "15\n",
      "0\n"
     ]
    }
   ],
   "source": [
    "summ([0,1,2,3,4,5])\n",
    "multiply([0,1,2])"
   ]
  },
  {
   "cell_type": "markdown",
   "id": "5c8be98b",
   "metadata": {},
   "source": [
    "6. The function max() from exercise 1) and the function max of three() from exercise 2)\n",
    "will only work for two and three numbers, respectively. But suppose we have a much\n",
    "larger number of numbers, or suppose we cannot tell in advance how many they are?\n",
    "Write a functionmax in list() that takes a list of numbers and returns the largest one"
   ]
  },
  {
   "cell_type": "code",
   "execution_count": 11,
   "id": "0483f4de",
   "metadata": {},
   "outputs": [],
   "source": [
    "def maxxx(z):\n",
    "    base = 0\n",
    "    for j in z:\n",
    "        if j>base:\n",
    "            base = j\n",
    "        else:\n",
    "            base = base\n",
    "    print(base)"
   ]
  },
  {
   "cell_type": "code",
   "execution_count": 12,
   "id": "ea4bb758",
   "metadata": {},
   "outputs": [
    {
     "name": "stdout",
     "output_type": "stream",
     "text": [
      "5\n"
     ]
    }
   ],
   "source": [
    "maxxx([1,2,3,4,5,2,3,4,4])"
   ]
  },
  {
   "cell_type": "markdown",
   "id": "482b4670",
   "metadata": {},
   "source": [
    "7. Create an empty python list.\n",
    "(a) Use an iterative process at your choice (for; while) to append 100 elements to\n",
    "the list. At the same time, ensure that the list looks like an arithmetic progression\n",
    "(or an arithmetic sequence) such that in every third element numbers increase by\n",
    "size of three, and fill in with zero other wise. In other words, you should increase\n",
    "the value in the List by a factor of 3 in the third, sixth, ninth position. { Hint:\n",
    "The list should look like x=[0,0,3,0,0,6,0,0,9....]\n",
    "(b) Import Numpy into the workspace and transform the list into a numpy array.\n",
    "Hint; the import statement is always better at the beginning of the script\n",
    "(c) Calculate the mean, the variance and the standard deviation of the array\n",
    "(d) Display in the screen - in three separate lines- the results obtained in point c)\n",
    "with three statements that look like the mean of the list is....."
   ]
  },
  {
   "cell_type": "code",
   "execution_count": 13,
   "id": "53bcd63a",
   "metadata": {},
   "outputs": [
    {
     "name": "stdout",
     "output_type": "stream",
     "text": [
      "[0, 0, 3, 0, 0, 6, 0, 0, 9, 0, 0, 12, 0, 0, 15, 0, 0, 18, 0, 0, 21, 0, 0, 24, 0, 0, 27, 0, 0, 30, 0, 0, 33, 0, 0, 36, 0, 0, 39, 0, 0, 42, 0, 0, 45, 0, 0, 48, 0, 0, 51, 0, 0, 54, 0, 0, 57, 0, 0, 60, 0, 0, 63, 0, 0, 66, 0, 0, 69, 0, 0, 72, 0, 0, 75, 0, 0, 78, 0, 0, 81, 0, 0, 84, 0, 0, 87, 0, 0, 90, 0, 0, 93, 0, 0, 96, 0, 0, 99, 0]\n"
     ]
    }
   ],
   "source": [
    "e_list = []\n",
    "ary_seq=0\n",
    "#a\n",
    "\n",
    "for j in range(1,101):\n",
    "    e_list.append(0)\n",
    "    if j%3==0:\n",
    "        ary_seq +=3\n",
    "        e_list.pop()\n",
    "        e_list.append(ary_seq)\n",
    "print(e_list)"
   ]
  },
  {
   "cell_type": "code",
   "execution_count": 14,
   "id": "852d3a73",
   "metadata": {},
   "outputs": [
    {
     "data": {
      "text/plain": [
       "array([ 0,  0,  3,  0,  0,  6,  0,  0,  9,  0,  0, 12,  0,  0, 15,  0,  0,\n",
       "       18,  0,  0, 21,  0,  0, 24,  0,  0, 27,  0,  0, 30,  0,  0, 33,  0,\n",
       "        0, 36,  0,  0, 39,  0,  0, 42,  0,  0, 45,  0,  0, 48,  0,  0, 51,\n",
       "        0,  0, 54,  0,  0, 57,  0,  0, 60,  0,  0, 63,  0,  0, 66,  0,  0,\n",
       "       69,  0,  0, 72,  0,  0, 75,  0,  0, 78,  0,  0, 81,  0,  0, 84,  0,\n",
       "        0, 87,  0,  0, 90,  0,  0, 93,  0,  0, 96,  0,  0, 99,  0])"
      ]
     },
     "execution_count": 14,
     "metadata": {},
     "output_type": "execute_result"
    }
   ],
   "source": [
    "#b\n",
    "\n",
    "import numpy as np\n",
    "e_list = np.array(e_list)  #from list to np.array,\n",
    "e_list"
   ]
  },
  {
   "cell_type": "code",
   "execution_count": 15,
   "id": "10f7778d",
   "metadata": {},
   "outputs": [
    {
     "name": "stdout",
     "output_type": "stream",
     "text": [
      "the mean of the array is equals to :  16.83\n",
      "the variance of the array is equals to :  844.36\n",
      "the std of the array is equals to :  29.06\n"
     ]
    }
   ],
   "source": [
    "#c & d\n",
    "\n",
    "print(\"the mean of the array is equals to : \", e_list.mean())\n",
    "\n",
    "print(\"the variance of the array is equals to : \", round(e_list.var(),2))\n",
    "\n",
    "print(\"the std of the array is equals to : \", round(e_list.std(),2))"
   ]
  },
  {
   "cell_type": "markdown",
   "id": "c67ee6b0",
   "metadata": {},
   "source": [
    "8. Write a Python program to get the difference between a given number and 17, if the\n",
    "number is greater than 17 return double the absolute difference."
   ]
  },
  {
   "cell_type": "code",
   "execution_count": 24,
   "id": "2c9e78b7",
   "metadata": {},
   "outputs": [],
   "source": [
    "def diff(z):\n",
    "    difference = z - 17\n",
    "    if z > 17:\n",
    "        difference = 2*abs(z - 17)\n",
    "        print(difference)\n",
    "    \n",
    "    if z <= 17:\n",
    "        print(difference)\n"
   ]
  },
  {
   "cell_type": "code",
   "execution_count": 25,
   "id": "7298d85b",
   "metadata": {},
   "outputs": [
    {
     "name": "stdout",
     "output_type": "stream",
     "text": [
      "74\n"
     ]
    }
   ],
   "source": [
    "diff(54)"
   ]
  },
  {
   "cell_type": "code",
   "execution_count": 31,
   "id": "d16929c4",
   "metadata": {},
   "outputs": [
    {
     "name": "stdout",
     "output_type": "stream",
     "text": [
      "-35\n"
     ]
    }
   ],
   "source": [
    "diff(-18)"
   ]
  },
  {
   "cell_type": "markdown",
   "id": "ef50c918",
   "metadata": {},
   "source": [
    "9. Write a Python program to test whether a number is within an interval of size 200\n",
    "around 1000 or 2000\n"
   ]
  },
  {
   "cell_type": "code",
   "execution_count": 32,
   "id": "1e5c0f8f",
   "metadata": {},
   "outputs": [],
   "source": [
    "def test(z):\n",
    "    if (800<=z<=1200):\n",
    "        print(\"the number is within an interval around 1000 of size 200\")\n",
    "    elif (1800<=z<=2200):\n",
    "        print(\"the number is within an interval around 2000 of size 200\")\n",
    "    else:\n",
    "        print(\"the number is not within an interval around 1000 or 2000 of size 200\")\n",
    "        "
   ]
  },
  {
   "cell_type": "code",
   "execution_count": 33,
   "id": "98adc05a",
   "metadata": {},
   "outputs": [
    {
     "name": "stdout",
     "output_type": "stream",
     "text": [
      "the number is within an interval around 1000 of size 200\n",
      "the number is not within an interval around 1000 or 2000 of size 200\n"
     ]
    }
   ],
   "source": [
    "test(900)\n",
    "\n",
    "\n",
    "test(700)"
   ]
  },
  {
   "cell_type": "markdown",
   "id": "cbd0294e",
   "metadata": {},
   "source": [
    "10. Create a zero numpy arrays of size 100\n",
    "(a) Iterate over the size of the arrays with an iterative process at your choice (for; while)\n",
    "and substitute in the arrays an arithmetic progression (or an arithmetic sequence)\n",
    "such that in every second element of the arrays increase by size of 2. In other\n",
    "words, you should increase the value in the array by a factor of 2 in the second,\n",
    "fourth, sixth position. { Hint: The list should look like x=[0,2,0,4,0,6,0,8,0....]\n",
    "(b) Calculate the mean, the variance and the standard deviation of the array\n",
    "(c) Display in the screen - in three separate lines- the results obtained in point c)\n",
    "with three statements that look like the mean of the list is....."
   ]
  },
  {
   "cell_type": "code",
   "execution_count": 34,
   "id": "8868a382",
   "metadata": {},
   "outputs": [
    {
     "name": "stdout",
     "output_type": "stream",
     "text": [
      "[  0.   2.   0.   4.   0.   6.   0.   8.   0.  10.   0.  12.   0.  14.\n",
      "   0.  16.   0.  18.   0.  20.   0.  22.   0.  24.   0.  26.   0.  28.\n",
      "   0.  30.   0.  32.   0.  34.   0.  36.   0.  38.   0.  40.   0.  42.\n",
      "   0.  44.   0.  46.   0.  48.   0.  50.   0.  52.   0.  54.   0.  56.\n",
      "   0.  58.   0.  60.   0.  62.   0.  64.   0.  66.   0.  68.   0.  70.\n",
      "   0.  72.   0.  74.   0.  76.   0.  78.   0.  80.   0.  82.   0.  84.\n",
      "   0.  86.   0.  88.   0.  90.   0.  92.   0.  94.   0.  96.   0.  98.\n",
      "   0. 100.]\n"
     ]
    }
   ],
   "source": [
    "#a\n",
    "\n",
    "zero_numpy = np.zeros(100)\n",
    "\n",
    "for j in range(1,len(zero_numpy)):\n",
    "    if j%2==1:\n",
    "        zero_numpy[j]= j + 1\n",
    "print(zero_numpy)"
   ]
  },
  {
   "cell_type": "code",
   "execution_count": 35,
   "id": "41b2a295",
   "metadata": {},
   "outputs": [
    {
     "name": "stdout",
     "output_type": "stream",
     "text": [
      "the mean of the array is equals to :  25.5\n",
      "the variance of the array is equals to :  1066.75\n",
      "the std of the array is equals to :  32.66\n"
     ]
    }
   ],
   "source": [
    "#b & c\n",
    "\n",
    "print(\"the mean of the array is equals to : \", zero_numpy.mean())\n",
    "\n",
    "print(\"the variance of the array is equals to : \", round(zero_numpy.var(),2))\n",
    "\n",
    "print(\"the std of the array is equals to : \", round(zero_numpy.std(),2))"
   ]
  },
  {
   "cell_type": "markdown",
   "id": "668f4969",
   "metadata": {},
   "source": [
    "11. Functions and Matplotlib"
   ]
  },
  {
   "cell_type": "markdown",
   "id": "85183455",
   "metadata": {},
   "source": [
    "(a) Import Matplolib.pyplot as plt"
   ]
  },
  {
   "cell_type": "code",
   "execution_count": 36,
   "id": "6120bb0b",
   "metadata": {},
   "outputs": [],
   "source": [
    "import matplotlib.pyplot as plt"
   ]
  },
  {
   "cell_type": "markdown",
   "id": "376499ae",
   "metadata": {},
   "source": [
    "(b) Generate a sample function that takes as input an array and returns the value of\n",
    "the function"
   ]
  },
  {
   "cell_type": "code",
   "execution_count": 37,
   "id": "37ae1925",
   "metadata": {},
   "outputs": [],
   "source": [
    "def function1(x):\n",
    "    return np.round(np.exp(x)-x,2)"
   ]
  },
  {
   "cell_type": "code",
   "execution_count": 38,
   "id": "01f70071",
   "metadata": {},
   "outputs": [
    {
     "data": {
      "text/plain": [
       "array([  1.72,   5.39,  17.09,  50.6 , 143.41])"
      ]
     },
     "execution_count": 38,
     "metadata": {},
     "output_type": "execute_result"
    }
   ],
   "source": [
    "function1([1,2,3,4,5])"
   ]
  },
  {
   "cell_type": "markdown",
   "id": "d37a6905",
   "metadata": {},
   "source": [
    "(c) Plot the function y on a grid of 300 points in the interval {0, 5}"
   ]
  },
  {
   "cell_type": "code",
   "execution_count": 39,
   "id": "85acc316",
   "metadata": {},
   "outputs": [],
   "source": [
    "x_axis = np.linspace(0, 5, 300)\n",
    "y_axis_y= function1(np.linspace(0, 5, 300))\n"
   ]
  },
  {
   "cell_type": "code",
   "execution_count": 40,
   "id": "bc51be90",
   "metadata": {},
   "outputs": [
    {
     "data": {
      "image/png": "[encoded data removed]",
      "text/plain": [
       "<Figure size 432x288 with 1 Axes>"
      ]
     },
     "metadata": {
      "needs_background": "light"
     },
     "output_type": "display_data"
    }
   ],
   "source": [
    "fig, ax =plt.subplots()\n",
    "plt.plot(x_axis, y_axis_y,alpha = 0.9,linewidth=2)\n",
    "\n",
    "ax.grid(linestyle='-.', axis = 'both')"
   ]
  },
  {
   "cell_type": "markdown",
   "id": "2b92eac9",
   "metadata": {},
   "source": [
    "(d) Generate a second function"
   ]
  },
  {
   "cell_type": "code",
   "execution_count": 41,
   "id": "38b78fe5",
   "metadata": {},
   "outputs": [],
   "source": [
    "def function2(x):\n",
    "    return np.subtract([10],x)"
   ]
  },
  {
   "cell_type": "markdown",
   "id": "21680608",
   "metadata": {},
   "source": [
    "(e) Plot the function y and y2 on a grid of 300 points in the interval {0, 5}\n"
   ]
  },
  {
   "cell_type": "code",
   "execution_count": 42,
   "id": "308698ec",
   "metadata": {},
   "outputs": [],
   "source": [
    "y_axis_y2= function2(np.linspace(0, 5, 300))"
   ]
  },
  {
   "cell_type": "code",
   "execution_count": 43,
   "id": "7bc31ea1",
   "metadata": {},
   "outputs": [
    {
     "data": {
      "image/png": "[encoded data removed]",
      "text/plain": [
       "<Figure size 432x288 with 1 Axes>"
      ]
     },
     "metadata": {
      "needs_background": "light"
     },
     "output_type": "display_data"
    }
   ],
   "source": [
    "fig, ax =plt.subplots()\n",
    "\n",
    "plt.plot(x_axis, y_axis_y,label=r'$y=exp(x)-x$',alpha = 0.9,linewidth=2)\n",
    "\n",
    "plt.plot(x_axis, y_axis_y2,label=r'$y_2=10-x$', alpha = 0.9,linewidth=3)\n",
    "\n",
    "ax.legend(loc='upper center')\n",
    "ax.grid(linestyle='-.', axis = 'both')"
   ]
  },
  {
   "cell_type": "markdown",
   "id": "b2d17766",
   "metadata": {},
   "source": [
    "# end"
   ]
  }
 ],
 "metadata": {
  "kernelspec": {
   "display_name": "Python 3 (ipykernel)",
   "language": "python",
   "name": "python3"
  },
  "language_info": {
   "codemirror_mode": {
    "name": "ipython",
    "version": 3
   },
   "file_extension": ".py",
   "mimetype": "text/x-python",
   "name": "python",
   "nbconvert_exporter": "python",
   "pygments_lexer": "ipython3",
   "version": "3.9.12"
  }
 },
 "nbformat": 4,
 "nbformat_minor": 5
}
