{
 "cells": [
  {
   "cell_type": "markdown",
   "id": "d5140c3e",
   "metadata": {},
   "source": [
    "Consider the following simple linear model of the labor market:\n",
    "\n",
    "\\begin{cases}\n",
    "L_d &= ad - bd(w + T) \\\\\n",
    "L_s &= -az + bz*w \\\\\n",
    "L_d &= L_s\n",
    "\\end{cases}\n",
    "\n",
    "where $ad$, $bd$, $az$, and $bz$ $\\in \\mathbb{R}^+$ and $w$ is the wage per hour. $T$ is a tax on labor paid by the firm."
   ]
  },
  {
   "cell_type": "code",
   "execution_count": 1,
   "id": "0c76b2da",
   "metadata": {},
   "outputs": [],
   "source": [
    "import numpy as np\n",
    "import matplotlib.pyplot as plt\n",
    "\n",
    "########################\n",
    "#set parameters\n",
    "########################\n",
    "ad= 20 #10\n",
    "bd=0.5 #.8\n",
    "az= 10 #-5.\n",
    "bz=0.4 #.4\n",
    "tax= 3 #0.2"
   ]
  },
  {
   "cell_type": "code",
   "execution_count": 2,
   "id": "dc854dc0",
   "metadata": {},
   "outputs": [],
   "source": [
    "if ad < az: #if there is not sufficient conditions for a market equilibrium\n",
    "    raise ValueError('No Market. Insufficient Demand.')"
   ]
  },
  {
   "cell_type": "markdown",
   "id": "69607fe9",
   "metadata": {},
   "source": [
    "(a) Put the linear model in matrix form and solve the linear model in Python for the equilibrium wage and the equilibrium labor.\n",
    "\n",
    "(Put the model in linear form $AX = B$ by carefully defining the matrix $A$ and the vector $B$)"
   ]
  },
  {
   "cell_type": "code",
   "execution_count": 3,
   "id": "a5b1236f",
   "metadata": {},
   "outputs": [
    {
     "data": {
      "text/plain": [
       "matrix([[ 0.44444444,  0.55555556],\n",
       "        [ 1.11111111, -1.11111111]])"
      ]
     },
     "execution_count": 3,
     "metadata": {},
     "output_type": "execute_result"
    }
   ],
   "source": [
    "A=np.zeros((2,2))\n",
    "A   \n",
    "\n",
    "\n",
    "A[0,0]=1\n",
    "A[0,1]=bd\n",
    "A[1,0]=1\n",
    "A[1,1]=-bz\n",
    "A #the first matrix on the left, where we have isolated the variables related to the labor and wages\n",
    "\n",
    "A=np.asmatrix(A)\n",
    "A_inv=np.linalg.inv(A)\n",
    "A_inv\n"
   ]
  },
  {
   "cell_type": "code",
   "execution_count": 4,
   "id": "91b71d1c",
   "metadata": {},
   "outputs": [],
   "source": [
    "def B_tax(tau):\n",
    "    BB=np.zeros((2,1))\n",
    "    BB[0,0]=ad-bd*tau\n",
    "    BB[1,0]=-az\n",
    "    return BB #in this way I obtain a dynamic array that change the result based to the change on the tax "
   ]
  },
  {
   "cell_type": "code",
   "execution_count": 5,
   "id": "a504d1e5",
   "metadata": {},
   "outputs": [],
   "source": [
    "def Mkt_eq(tau):\n",
    "    X_star=A_inv*B_tax(tau) \n",
    "    return X_star #the final solution to the problem of equilibrium\n",
    "\n",
    "eq_tax=Mkt_eq(tax)\n",
    "l_tax=Mkt_eq(tax)[0] #Labor\n",
    "w_tax=Mkt_eq(tax)[1] #wage\n",
    "\n",
    "eq_no_tax=Mkt_eq(tau=0)  #the final solution to the problem of equilibrium without taxes\n",
    "l_notax=Mkt_eq(0)[0]\n",
    "w_notax=Mkt_eq(0)[1]"
   ]
  },
  {
   "cell_type": "code",
   "execution_count": 6,
   "id": "b8d1ddf0",
   "metadata": {},
   "outputs": [
    {
     "data": {
      "text/plain": [
       "matrix([[ 2.66666667],\n",
       "        [31.66666667]])"
      ]
     },
     "execution_count": 6,
     "metadata": {},
     "output_type": "execute_result"
    }
   ],
   "source": [
    "eq_tax"
   ]
  },
  {
   "cell_type": "code",
   "execution_count": 7,
   "id": "0a541201",
   "metadata": {},
   "outputs": [
    {
     "data": {
      "text/plain": [
       "matrix([[ 3.33333333],\n",
       "        [33.33333333]])"
      ]
     },
     "execution_count": 7,
     "metadata": {},
     "output_type": "execute_result"
    }
   ],
   "source": [
    "eq_no_tax"
   ]
  },
  {
   "cell_type": "markdown",
   "id": "0f94f9cc",
   "metadata": {},
   "source": [
    "(b) Suppose that the tax value assigned in point a) increases by 10 percent, so that $T_1 = 1.1 \\cdot T_0$. \n",
    "\n",
    "Solve the model with the new tax and obtain the new labor and wage in equilibrium. Define the elasticity of labor supply as $\\epsilon_{L,w}(T) = {\\left|\\left|\\frac{\\Delta L/L}{\\Delta w/w}\\right|\\right|}$, where $\\Delta L$ and $\\Delta w$ are the changes in wages associated with the change in tax. Obtain numerically the value of the elasticity of labor supply.\n"
   ]
  },
  {
   "cell_type": "code",
   "execution_count": 8,
   "id": "a48ff319",
   "metadata": {},
   "outputs": [],
   "source": [
    "tax1=tax*1.1\n",
    "\n",
    "\n",
    "def B_tax1(tau):\n",
    "    BB=np.zeros((2,1))\n",
    "    BB[0,0]=ad-bd*tau\n",
    "    BB[1,0]=-az\n",
    "    return BB \n",
    "\n",
    "def Mkt_eq1(tau):\n",
    "    X_star=A_inv*B_tax1(tau) \n",
    "    return X_star #the final solution to the problem of equilibrium with taxes *1.1\n",
    "\n",
    "eq_tax1=Mkt_eq1(tax1)\n",
    "l_tax1=Mkt_eq1(tax1)[0] #Labor\n",
    "w_tax1=Mkt_eq1(tax1)[1] #wage\n",
    "\n",
    "eq_no_tax1=Mkt_eq1(tau=0)  #the final solution to the problem of equilibrium without taxes\n",
    "l_notax1=Mkt_eq1(0)[0]\n",
    "w_notax1=Mkt_eq1(0)[1]\n",
    "\n",
    "ϵ = abs((l_tax-l_tax1)/l_tax/(w_tax-w_tax1)/w_tax)"
   ]
  },
  {
   "cell_type": "code",
   "execution_count": 9,
   "id": "11592e0a",
   "metadata": {},
   "outputs": [
    {
     "data": {
      "text/plain": [
       "matrix([[ 2.6],\n",
       "        [31.5]])"
      ]
     },
     "execution_count": 9,
     "metadata": {},
     "output_type": "execute_result"
    }
   ],
   "source": [
    "eq_tax1"
   ]
  },
  {
   "cell_type": "code",
   "execution_count": 10,
   "id": "63cea54a",
   "metadata": {},
   "outputs": [
    {
     "data": {
      "text/plain": [
       "matrix([[ 3.33333333],\n",
       "        [33.33333333]])"
      ]
     },
     "execution_count": 10,
     "metadata": {},
     "output_type": "execute_result"
    }
   ],
   "source": [
    "eq_no_tax1 #only for control"
   ]
  },
  {
   "cell_type": "code",
   "execution_count": 11,
   "id": "fc92bd6c",
   "metadata": {},
   "outputs": [
    {
     "name": "stdout",
     "output_type": "stream",
     "text": [
      "the elasticity of the Labor Suply is :  0.473684 %\n"
     ]
    }
   ],
   "source": [
    "print(\"the elasticity of the Labor Suply is : \",round(float(ϵ),8)*100, \"%\") #elasticity, rounded and in percentile"
   ]
  },
  {
   "cell_type": "markdown",
   "id": "607a0eab",
   "metadata": {},
   "source": [
    "\n",
    "(c) Genera una sequenza lineare per il parametro $bz$ ottenendo 10 valori di tali\n",
    "parametri. In particolare, assumi che il valore più basso della sequenza sia il\n",
    "valore originale nel punto a) $\\hat{b}_z$ mentre il valore massimo sia $2\\hat{b}z$.\n",
    "Ottieni i 10 valori dell'elasticità associati alla sequenza lineare, in modo che $\\epsilon_{L,w}(T)(\\hat{b}_z)$"
   ]
  },
  {
   "cell_type": "code",
   "execution_count": 12,
   "id": "57154eea",
   "metadata": {},
   "outputs": [
    {
     "data": {
      "text/plain": [
       "array([0.4       , 0.44444444, 0.48888889, 0.53333333, 0.57777778,\n",
       "       0.62222222, 0.66666667, 0.71111111, 0.75555556, 0.8       ])"
      ]
     },
     "execution_count": 12,
     "metadata": {},
     "output_type": "execute_result"
    }
   ],
   "source": [
    "bz_dynamic =np.linspace(bz, 2*bz, 10) #min value bz, max value 2bz, interval of 10 values\n",
    "\n",
    "bz_dynamic"
   ]
  },
  {
   "cell_type": "code",
   "execution_count": 38,
   "id": "cabcffae",
   "metadata": {},
   "outputs": [
    {
     "name": "stdout",
     "output_type": "stream",
     "text": [
      "[[4.75]]\n",
      "[[3.93103448]]\n",
      "[[3.44505495]]\n",
      "[[3.12328767]]\n",
      "[[2.89453125]]\n",
      "[[2.72354949]]\n",
      "[[2.59090909]]\n",
      "[[2.48501362]]\n",
      "[[2.39851485]]\n",
      "[[2.32653061]]\n"
     ]
    }
   ],
   "source": [
    "ϵ_dynamic = []\n",
    "\n",
    "for i in bz_dynamic:\n",
    "    A[0,0]=1\n",
    "    A[0,1]=bd\n",
    "    A[1,0]=1\n",
    "    A[1,1]=-i\n",
    "    A \n",
    "\n",
    "    A=np.asmatrix(A)\n",
    "    A_inv=np.linalg.inv(A)\n",
    "\n",
    "    eq_tax=Mkt_eq(tax)\n",
    "    l_tax=Mkt_eq(tax)[0] #Labor\n",
    "    w_tax=Mkt_eq(tax)[1] #wage\n",
    "\n",
    "    eq_no_tax=Mkt_eq(tau=0)  #no tax\n",
    "    l_notax=Mkt_eq(0)[0]\n",
    "    w_notax=Mkt_eq(0)[1]\n",
    "    \n",
    "    eq_tax1=Mkt_eq1(tax1) #remember that we are using tax *1.1\n",
    "    l_tax1=Mkt_eq1(tax1)[0] #dynamic Labor\n",
    "    w_tax1=Mkt_eq1(tax1)[1] #dynamic wages\n",
    "\n",
    "    eq_no_tax1=Mkt_eq1(tau=0) \n",
    "    l_notax1=Mkt_eq1(0)[0]\n",
    "    w_notax1=Mkt_eq1(0)[1]\n",
    "    \n",
    "    ϵ = abs(((l_tax-l_tax1)/l_tax)/((w_tax-w_tax1)/w_tax))\n",
    "    \n",
    "    ϵ_dynamic.append(float(ϵ))\n",
    "    \n",
    "    print(ϵ)\n",
    "    \n",
    "    "
   ]
  },
  {
   "cell_type": "code",
   "execution_count": 39,
   "id": "b13eb696",
   "metadata": {},
   "outputs": [
    {
     "data": {
      "text/plain": [
       "[4.7500000000000515,\n",
       " 3.931034482758391,\n",
       " 3.4450549450549484,\n",
       " 3.123287671232916,\n",
       " 2.894531250000035,\n",
       " 2.723549488054613,\n",
       " 2.590909090909127,\n",
       " 2.485013623978198,\n",
       " 2.3985148514851518,\n",
       " 2.3265306122449334]"
      ]
     },
     "execution_count": 39,
     "metadata": {},
     "output_type": "execute_result"
    }
   ],
   "source": [
    "ϵ_dynamic"
   ]
  },
  {
   "cell_type": "code",
   "execution_count": 40,
   "id": "cfc41fd4",
   "metadata": {},
   "outputs": [],
   "source": [
    "import matplotlib.pyplot as plt"
   ]
  },
  {
   "cell_type": "code",
   "execution_count": 41,
   "id": "50a22fcf",
   "metadata": {},
   "outputs": [
    {
     "data": {
      "image/png": "[encoded data removed]",
      "text/plain": [
       "<Figure size 432x288 with 1 Axes>"
      ]
     },
     "metadata": {
      "needs_background": "light"
     },
     "output_type": "display_data"
    }
   ],
   "source": [
    "fig, ax =plt.subplots()\n",
    "\n",
    "plt.plot(bz_dynamic, ϵ_dynamic,alpha = 0.9,linewidth=2)\n",
    "\n",
    "plt.title(\"ϵ ; bz relation \")\n",
    "plt.xlabel(\"bz\")\n",
    "plt.ylabel(\"ϵ \")\n",
    "\n",
    "plt.show()\n"
   ]
  },
  {
   "cell_type": "markdown",
   "id": "041b44b4",
   "metadata": {},
   "source": [
    "2) Consider a general continuous demand function of a market for cookies, where $p$ is the price, $Q_d$ is the quantity demanded, and $y$ is income:\n",
    "$$Q_d = D(p, y, \\Phi^d)$$\n",
    "\n",
    "s.t. $\\frac{\\partial D}{\\partial p} < 0$, and $\\frac{\\partial D}{\\partial y} > 0$. $\\Phi^d$ is a set of exogenous parameters. Consider the supply function for the market considered, where $Q^s$ is an upward continuous function with respect to $p$:\n",
    "$$Q_s = S(p, \\Phi^s)$$\n",
    "To begin with, choose an analytic expression of a (non-linear) demand and supply function that satisfy the properties specified above. Specify the parameters of the sets $\\Phi^d$ and $\\Phi^s$."
   ]
  },
  {
   "cell_type": "markdown",
   "id": "d7832dd6",
   "metadata": {},
   "source": [
    "(a) Ensure, analytically, that an equilibrium exist in the market with the function\n",
    "chosen"
   ]
  },
  {
   "cell_type": "markdown",
   "id": "cc749e51",
   "metadata": {},
   "source": [
    "The analytic expression for the demand function in the market in this exercise is :\n",
    "\n",
    "$ Q^d = \\frac{\\alpha Y}{p} $\n",
    "\n",
    "\n",
    "While the analytic expression for the supply curve is:\n",
    "\n",
    "$ Q^s = +\\gamma p^2  $"
   ]
  },
  {
   "cell_type": "markdown",
   "id": "7f341b1d",
   "metadata": {},
   "source": [
    "\\begin{cases}\n",
    "Q_d &= \\frac {\\alpha*Y}{p}\\\\\n",
    "Q_s &= \\gamma*p^2 \\\\\n",
    "Q_d &= Q_s\n",
    "\\end{cases}\n",
    "\n",
    "\n"
   ]
  },
  {
   "cell_type": "code",
   "execution_count": 17,
   "id": "94eb8e45",
   "metadata": {},
   "outputs": [],
   "source": [
    "import numpy as np\n",
    "import matplotlib.pyplot as plt\n",
    "\n",
    "α = 0.4\n",
    "Y= 100\n",
    "γ= 0.5\n",
    "\n",
    "def demand(α,Y,p): #Q_d\n",
    "    return (α*Y)/p\n",
    "\n",
    "def deriv_demand(α,Y,p):\n",
    "    return -(α*Y)/p**2\n",
    "\n",
    "def supply(γ,p): #Q_s\n",
    "    return γ*p**2\n",
    "\n",
    "def deriv_supply(γ,p):\n",
    "    return 2*γ*p\n",
    "\n",
    "def mkt_f(p):\n",
    "    return supply(γ,p)-demand(α,Y,p)\n",
    "\n",
    "def fprime(p):\n",
    "    return deriv_supply(p)-demand_supply(p)\n",
    "\n",
    "def inv_demand(q,Y,α):\n",
    "    return (α*Y)/q\n",
    "\n",
    "def inv_supply(q,γ):\n",
    "    return (q/γ)**0.5"
   ]
  },
  {
   "cell_type": "code",
   "execution_count": 18,
   "id": "2fa9accf",
   "metadata": {},
   "outputs": [],
   "source": [
    "y_axis_demand=[]\n",
    "for i in np.linspace(0.1, 5, 800):\n",
    "    result= demand(α,Y,i)\n",
    "    y_axis_demand.append(result)\n"
   ]
  },
  {
   "cell_type": "code",
   "execution_count": 19,
   "id": "d618e564",
   "metadata": {},
   "outputs": [],
   "source": [
    "y_axis_supply=[]\n",
    "for i in np.linspace(0.1, 5, 800):\n",
    "    result= supply(γ,i)\n",
    "    y_axis_supply.append(result)"
   ]
  },
  {
   "cell_type": "code",
   "execution_count": 20,
   "id": "ef463570",
   "metadata": {},
   "outputs": [],
   "source": [
    "x_axis = np.linspace(3, 5, 800)\n",
    "y_axis_demand = demand(α, Y, x_axis)\n",
    "y_axis_supply = supply(γ, x_axis)"
   ]
  },
  {
   "cell_type": "code",
   "execution_count": null,
   "id": "3d0f01a5",
   "metadata": {},
   "outputs": [],
   "source": []
  },
  {
   "cell_type": "code",
   "execution_count": 21,
   "id": "0a71110e",
   "metadata": {},
   "outputs": [
    {
     "data": {
      "image/png": "[encoded data removed]",
      "text/plain": [
       "<Figure size 432x288 with 1 Axes>"
      ]
     },
     "metadata": {
      "needs_background": "light"
     },
     "output_type": "display_data"
    }
   ],
   "source": [
    "x_axis_demand = np.linspace(0.1, 10, 800)\n",
    "\n",
    "y_axis_demand1=[]\n",
    "for i in np.linspace(0.1, 10, 800):\n",
    "    result= demand(α,Y,i)\n",
    "    y_axis_demand1.append(result)\n",
    "\n",
    "fig, ax = plt.subplots()\n",
    "\n",
    "plt.plot(x_axis_demand, y_axis_demand1, label=\"demand\", alpha=0.9, linewidth=2)\n",
    "\n",
    "#fig, ax = plt.subplots()\n",
    "\n",
    "plt.title(\"Demand curve\")\n",
    "plt.xlabel(\"Price\")\n",
    "plt.ylabel(\"Quantity\")\n",
    "\n",
    "plt.legend()\n",
    "\n",
    "plt.show()"
   ]
  },
  {
   "cell_type": "code",
   "execution_count": 22,
   "id": "2b753d01",
   "metadata": {},
   "outputs": [
    {
     "data": {
      "image/png": "[encoded data removed]",
      "text/plain": [
       "<Figure size 432x288 with 1 Axes>"
      ]
     },
     "metadata": {
      "needs_background": "light"
     },
     "output_type": "display_data"
    }
   ],
   "source": [
    "x_axis_supply = np.linspace(0.1, 10, 800)\n",
    "\n",
    "y_axis_supply1=[]\n",
    "for i in np.linspace(0.1, 10, 800):\n",
    "    result= supply(γ,i)\n",
    "    y_axis_supply1.append(result)\n",
    "\n",
    "fig, ax = plt.subplots()\n",
    "\n",
    "plt.plot(x_axis_supply, y_axis_supply1, label=\"supply\", color=\"orange\", alpha=0.9, linewidth=2)\n",
    "\n",
    "plt.title(\"Supply curve\")\n",
    "plt.xlabel(\"Price\")\n",
    "plt.ylabel(\"Quantity\")\n",
    "\n",
    "plt.legend()\n",
    "\n",
    "plt.show()"
   ]
  },
  {
   "cell_type": "code",
   "execution_count": 23,
   "id": "5be1a509",
   "metadata": {},
   "outputs": [
    {
     "data": {
      "image/png": "[encoded data removed]",
      "text/plain": [
       "<Figure size 432x288 with 1 Axes>"
      ]
     },
     "metadata": {
      "needs_background": "light"
     },
     "output_type": "display_data"
    }
   ],
   "source": [
    "\n",
    "plt.plot(x_axis, y_axis_demand, label=\"demand\", alpha=0.9, linewidth=2)\n",
    "plt.plot(x_axis, y_axis_supply, label=\"supply\", alpha=0.9, linewidth=3)\n",
    "\n",
    "plt.title(\"Demand-Supply relation\")\n",
    "plt.xlabel(\"Price\")\n",
    "plt.ylabel(\"Quantity\")\n",
    "\n",
    "plt.legend()\n",
    "\n",
    "plt.show()\n",
    "\n",
    "\n",
    "\n",
    "\n",
    "\n",
    "\n"
   ]
  },
  {
   "cell_type": "markdown",
   "id": "35d4ccc6",
   "metadata": {},
   "source": [
    "In this case the supply (orange line) is positively sloped and the demand (blue line) is negatively sloped, analytically we have a solution on $ R^2_{++} $, if some important conditions hold:\n",
    "\n",
    "1. the functions are continuous on $ R^2_{++} $ (the region in which we are interested)\n",
    "\n",
    "\n",
    "2. there are the necessary conditions for the equilibrium of the market, so that the demand is greater than the supply when the price is 0.\n",
    "\n",
    "\n",
    "\n",
    "3. strictly monotonicity on $ R^2_{++} $\n",
    "\n",
    "\n",
    "\n",
    "Looking at the functions and at the derivative functions specified above the first two condition hold. Then, we know that  $ D \\rightarrow \\infty $   as    $ q \\rightarrow 0 $  while the intercept of the supply function is 0 : also the third condition holds. "
   ]
  },
  {
   "cell_type": "code",
   "execution_count": null,
   "id": "e12da766",
   "metadata": {},
   "outputs": [],
   "source": []
  },
  {
   "cell_type": "markdown",
   "id": "0e8fa5d9",
   "metadata": {},
   "source": [
    "(b) Write a Python script that applies the bisection method to find the equilibrium\n",
    "price and quantity in your market. Explain carefully in the script what exactly\n",
    "you are doing in each step"
   ]
  },
  {
   "cell_type": "code",
   "execution_count": 24,
   "id": "015148f1",
   "metadata": {},
   "outputs": [],
   "source": [
    "#we start by implementing the bisection method\n",
    "def bisection(f,x0,x1,tol=10e-5):\n",
    "    \n",
    "\n",
    "#with this method we have to choose two different type of values (which must have opposite sign)   \n",
    "    lower, upper = x0, x1\n",
    "    while upper - lower>tol:  #while the difference is bigger than the tolerance we keep going using this method\n",
    "\n",
    "        middle =0.5*(upper+lower) #we choose the middle value, then if the value is positive we set the upper = lower\n",
    "   \n",
    "        if f(middle)>0:\n",
    "            lower, upper=lower, middle\n",
    "        else: #if the value is positive we set the lower=upper\n",
    "            lower, upper=middle, upper\n",
    "\n",
    "    return 0.5*(upper+lower) #finally we obtain the final result"
   ]
  },
  {
   "cell_type": "code",
   "execution_count": 25,
   "id": "701f8f44",
   "metadata": {},
   "outputs": [
    {
     "name": "stdout",
     "output_type": "stream",
     "text": [
      "Solution price with bisection: 4.308868408203125\n"
     ]
    }
   ],
   "source": [
    "#the solution is given from:\n",
    "price_equilibrium=bisection(mkt_f,1,5)\n",
    "print (\"Solution price with bisection:\", price_equilibrium)"
   ]
  },
  {
   "cell_type": "code",
   "execution_count": null,
   "id": "ab219748",
   "metadata": {},
   "outputs": [],
   "source": []
  },
  {
   "cell_type": "markdown",
   "id": "57e5d744",
   "metadata": {},
   "source": [
    "(c) Write a similar code to that of the previous code that uses the Newton method\n",
    "or the Secant method to find the the equilibrium."
   ]
  },
  {
   "cell_type": "code",
   "execution_count": 26,
   "id": "6c668ef7",
   "metadata": {},
   "outputs": [],
   "source": [
    "# The function takes three arguments: \n",
    "#f (the function whose root needs to be found), x0 and x1 (initial guesses), and tol (tolerance).\n",
    "\n",
    "def secant(f,x0,x1,tol=10e-5): #in this case we use the secant method\n",
    "    metric=1\n",
    "    Tol=1e-8\n",
    "\n",
    "    f0=f(x0)\n",
    "    f1=f(x1)\n",
    "    #The function evaluates f(x0) and f(x1) and estimates the derivative using the secant formula.\n",
    "    df1=(f1-f0)/(x1-x0)\n",
    "    \n",
    "    #The next approximation xn2 is computed using the estimated derivative and previous xn and xn1.\n",
    "    xn2=x1-f1/df1\n",
    "\n",
    "        #xn1 and fn1 are updated with the new xn2 and f(xn2) values.\n",
    "    xn=x1\n",
    "    xn1=xn2\n",
    "\n",
    "    fn=f1\n",
    "    iter=0\n",
    "    while metric>Tol:  #The iteration continues until the tolerance criterion is satisfied or the maximum number of iterations is reached\n",
    "        fn1=f(xn2)\n",
    "        \n",
    "        #The derivative is estimated again using the updated xn1 and xn values.\n",
    "        dfn=(fn1-fn)/(xn1-xn)\n",
    "        #xn2 is updated again using the updated derivative estimate and the latest xn1.\n",
    "        xn2=xn1-fn1/dfn\n",
    "        xn=xn1\n",
    "        xn1=xn2\n",
    "\n",
    "        fn=fn1\n",
    "        metric=abs(fn)  \n",
    "        iter=iter+1 #it is a counter\n",
    "    return xn1  #Finally, the function returns the latest approximation xn1\n",
    "\n"
   ]
  },
  {
   "cell_type": "markdown",
   "id": "815044f3",
   "metadata": {},
   "source": []
  },
  {
   "cell_type": "code",
   "execution_count": 27,
   "id": "162a88f0",
   "metadata": {},
   "outputs": [
    {
     "data": {
      "text/plain": [
       "4.308869380063768"
      ]
     },
     "execution_count": 27,
     "metadata": {},
     "output_type": "execute_result"
    }
   ],
   "source": [
    "secant(mkt_f,1,5) #the result is the same"
   ]
  },
  {
   "cell_type": "markdown",
   "id": "595c2b1b",
   "metadata": {},
   "source": [
    "(d) Consider a sequence of $n$ values of $y$, ${(y_i)}_{i=n}^{i=0}$. Find the equilibrium price and quantity for each value of the income specified. In other words, find equilibrium arrays ${p_i^*(y_i)}{i=n}^{i=0}$ and ${q_i^*(y_i)}_{i=n}^{i=0}$."
   ]
  },
  {
   "cell_type": "code",
   "execution_count": 28,
   "id": "b406ff57",
   "metadata": {},
   "outputs": [],
   "source": [
    "\n",
    "income_sequence = np.linspace(0, 50, 800)\n",
    "price=[]\n",
    "quantity=[]\n",
    "for i in income_sequence:\n",
    "    def mkt_eq_sequence(p):\n",
    "        return demand(α,i,p)-supply(γ,p)\n",
    "    \n",
    "    price_i =secant(mkt_eq_sequence,0.1,10)\n",
    "    demand_sequence= demand(α,i,price_i)\n",
    "    \n",
    "    price.append(price_i)\n",
    "    quantity.append(demand_sequence)\n",
    "    \n",
    "price =np.array(price)\n",
    "quantity = np.array(quantity)"
   ]
  },
  {
   "cell_type": "code",
   "execution_count": null,
   "id": "e51d3d16",
   "metadata": {},
   "outputs": [],
   "source": []
  },
  {
   "cell_type": "code",
   "execution_count": 29,
   "id": "15dcb112",
   "metadata": {},
   "outputs": [
    {
     "data": {
      "image/png": "[encoded data removed]",
      "text/plain": [
       "<Figure size 432x288 with 1 Axes>"
      ]
     },
     "metadata": {
      "needs_background": "light"
     },
     "output_type": "display_data"
    }
   ],
   "source": [
    "x_axis = np.linspace(0, 10, 800)\n",
    "y_axis_price = price\n",
    "y_axis_quantity = quantity\n",
    "\n",
    "fig, ax = plt.subplots()\n",
    "\n",
    "plt.plot(y_axis_quantity, y_axis_price, label=\"Price\", alpha=0.9, linewidth=2)\n",
    "plt.plot(y_axis_quantity, y_axis_price, label=\"Quantity\", alpha=0.9, linewidth=3)\n",
    "\n",
    "plt.title(\"Equilibrium\")\n",
    "plt.xlabel(\"Quantity\")\n",
    "plt.ylabel(\"Price\")\n",
    "\n",
    "plt.legend()\n",
    "\n",
    "plt.show()\n",
    "\n",
    "#in this case the 2 functions match beacuse they are the same !\n"
   ]
  },
  {
   "cell_type": "code",
   "execution_count": null,
   "id": "213d0d7a",
   "metadata": {},
   "outputs": [],
   "source": []
  },
  {
   "cell_type": "markdown",
   "id": "68a4c9f3",
   "metadata": {},
   "source": [
    "(e) Let $p^*$ and $q^*$ be the equilibrium price and quantity, respectively. Define the consumer surplus as:\\\n",
    "$$ W^c = \\int_{0}^{q} D^{-1}(z, y, \\Phi_d) dz - p^*q^* $$\n",
    "\n",
    "and the producer surplus as\n",
    "\n",
    "$$W^s = p^* q^* - \\int_{0}^{q^*} S^{-1}(z, \\Phi_s) dz$$\n",
    "\n",
    "where $D^{−1}$ and $S^{−1}$ are the inverse of the demand and supply function. Find\n",
    "a numerical approximation of the total surplus in the market defined as \n",
    "$$S =W^{c} + W^{s} $$"
   ]
  },
  {
   "cell_type": "code",
   "execution_count": 30,
   "id": "d86c71e2",
   "metadata": {},
   "outputs": [],
   "source": [
    "from scipy.integrate import quad"
   ]
  },
  {
   "cell_type": "code",
   "execution_count": 42,
   "id": "ed48751d",
   "metadata": {},
   "outputs": [
    {
     "name": "stdout",
     "output_type": "stream",
     "text": [
      "The surplus of the consumer is:  509.64518398967084\n",
      "The surplus of the producer is:  13.333324321486042\n",
      "The total surplus in the market is: 522.9785083111569\n"
     ]
    }
   ],
   "source": [
    "q_star= demand(α,Y,price_equilibrium)\n",
    "p_star = price_equilibrium\n",
    "\n",
    "def integrand(q):\n",
    "    return inv_demand(q,α,Y)\n",
    "\n",
    "\n",
    "area_demand, error_c = quad(integrand,0.00001,q_star)\n",
    "Wc=area_demand -q_star*p_star\n",
    "print(\"The surplus of the consumer is: \", Wc)\n",
    "\n",
    "def integrand2(q):\n",
    "    return inv_supply(q,γ)\n",
    "\n",
    "\n",
    "q_star_s = supply(γ,price_equilibrium)\n",
    "area_supply, error_s = quad(integrand2,0.00001,q_star_s)\n",
    "Ws=q_star_s*price_equilibrium-area_supply\n",
    "print(\"The surplus of the producer is: \", Ws)\n",
    "\n",
    "surplus=Wc+Ws\n",
    "\n",
    "print (\"The total surplus in the market is:\", surplus)"
   ]
  },
  {
   "cell_type": "code",
   "execution_count": null,
   "id": "33f2615c",
   "metadata": {},
   "outputs": [],
   "source": []
  }
 ],
 "metadata": {
  "kernelspec": {
   "display_name": "Python 3 (ipykernel)",
   "language": "python",
   "name": "python3"
  },
  "language_info": {
   "codemirror_mode": {
    "name": "ipython",
    "version": 3
   },
   "file_extension": ".py",
   "mimetype": "text/x-python",
   "name": "python",
   "nbconvert_exporter": "python",
   "pygments_lexer": "ipython3",
   "version": "3.9.12"
  }
 },
 "nbformat": 4,
 "nbformat_minor": 5
}
