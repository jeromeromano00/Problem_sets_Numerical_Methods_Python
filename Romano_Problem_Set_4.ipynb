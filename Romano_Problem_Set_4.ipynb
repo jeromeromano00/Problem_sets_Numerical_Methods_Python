{
 "cells": [
  {
   "cell_type": "markdown",
   "id": "1237e8bf",
   "metadata": {},
   "source": [
    "$1)$  Consider the following dynamic model:\n",
    "\\begin{equation}\n",
    "\\max_{c_t, k_{t+1}} \\sum_{t=0}^{\\infty} \\beta^t \\ln c_t \\\\\\\n",
    "\\text{s.t. } k_{t+1} = k_t^\\alpha - c_t, \\quad t = 0, 1, \\ldots\n",
    "k_0 \\text{ given}\n",
    "\\end{equation}\n",
    "where all symbols have their usual meaning."
   ]
  },
  {
   "cell_type": "markdown",
   "id": "cf490f8e",
   "metadata": {},
   "source": [
    "$(a)$ Set up the infinite horizon Lagrangean and take the first order condition:"
   ]
  },
  {
   "cell_type": "markdown",
   "id": "2bb16602",
   "metadata": {},
   "source": [
    "\\begin{equation}\n",
    "L = \\sum_{t=0}^{\\infty} \\beta^t \\ln(c_t) + \\sum_{t=0}^{\\infty} \\lambda_t [ k^{\\alpha}_t - c_t - k_{t+1}]\n",
    "\\end{equation}\n",
    "\n",
    "\\begin{align*}\n",
    "& \\begin{cases}\n",
    "\\frac{\\partial L}{\\partial c_t} = 0 \\\\\n",
    "\\frac{\\partial L}{\\partial k_{t+1}} = 0 \\\\\n",
    "\\frac{\\partial L}{\\partial \\lambda_t} = 0 \\\\\n",
    "\\text{transversality condition}\n",
    "\\end{cases}\n",
    "\\end{align*}\n",
    "\n",
    "\n",
    "\\begin{align*}\n",
    "& \\begin{cases}\n",
    "\\frac{\\beta^t}{c_t} = \\lambda_t \\\\\n",
    "-\\lambda_t + \\lambda_{t+1} [\\alpha k^{\\alpha-1}_{t+1}] = 0 \\\\\n",
    "k_{t+1} = k^{\\alpha}_t - c_t \\\\\n",
    "\\lim_{t\\to\\infty} \\frac{\\beta^t}{c_t} k_{t+1} = 0\n",
    "\\end{cases}\n",
    "\\end{align*}\n",
    "\n",
    "\\begin{align*}\n",
    "& \\begin{cases}\n",
    "\\frac{\\beta^t}{c_t} = \\lambda_t \\\\\n",
    "\\frac{\\lambda_t}{\\lambda_{t+1}} = \\alpha k^{\\alpha-1}_{t+1} \\\\\n",
    "c_t + k_{t+1} = k^{\\alpha}_t \\\\\n",
    "\\lim_{t\\to\\infty} \\frac{\\beta^t}{c_t} k_{t+1} = 0\n",
    "\\end{cases}\n",
    "\\end{align*}\n",
    "\n",
    "\n",
    "\\begin{align*}\n",
    "\\text{since that, by the first equation we have :} \\\\\n",
    "\\frac{\\beta^t}{c_t} &= \\lambda_t \\\\\n",
    "\\\\\n",
    "\\text{we can substitute it into the second equation :}\n",
    "\\\\\n",
    "\\\\\n",
    "\\frac{\\lambda_t}{\\lambda_{t+1}} \\quad \\rightarrow \\quad \\frac{\\frac{\\beta^t}{c_t}}{\\frac{\\beta^{t+1}}{c_{t+1}}} &\n",
    "\\quad \\rightarrow \\quad \\frac{\\beta^t c_{t+1}}{\\beta^{t+1} c_{t}} &\n",
    "\\quad \\rightarrow \\quad \\frac{c_{t+1}}{\\beta c_{t}}\n",
    "\\end{align*}\n",
    "\n",
    "\\begin{align*}\n",
    "\\text{we obtain this system :     }\n",
    "& \\begin{cases}\n",
    "\\frac{\\beta^t}{c_t} = \\lambda_t \\\\\n",
    "\\frac{c_{t+1}}{\\beta c_t} = \\alpha k^{\\alpha-1}_{t+1} \\\\\n",
    "c_t + k_{t+1} = k^{\\alpha}_t \\\\\n",
    "\\lim_{t\\to\\infty} \\frac{\\beta^t}{c_t} k_{t+1} = 0 \\text{               (TSV cond.)}\n",
    "\\end{cases}\n",
    "\\end{align*}\n",
    "\n",
    "\\begin{align*}\n",
    "\\text{and so finally the key system equation :     }\n",
    "& \\begin{cases}\n",
    "\\frac{c_{t+1}}{\\beta c_t} = \\alpha k^{\\alpha-1}_{t+1} \\\\\n",
    "c_t + k_{t+1} = k^{\\alpha}_t \\\\\n",
    "\\end{cases}\n",
    "\\end{align*}\n"
   ]
  },
  {
   "cell_type": "code",
   "execution_count": null,
   "id": "c1a1274c",
   "metadata": {},
   "outputs": [],
   "source": []
  },
  {
   "cell_type": "markdown",
   "id": "81c892b4",
   "metadata": {},
   "source": [
    "$(b)$ Obtain a non linear system of 2 equations in $k_t$, $c_t$ (over and above the transversality condition)\n"
   ]
  },
  {
   "cell_type": "markdown",
   "id": "314ffd86",
   "metadata": {},
   "source": [
    "\\begin{align*}\n",
    "\\text{since that, by the first equation we have :} \\\\\n",
    "\\frac{\\beta^t}{c_t} &= \\lambda_t \\\\\n",
    "\\\\\n",
    "\\text{we can substitute it into the second equation :}\n",
    "\\\\\n",
    "\\\\\n",
    "\\frac{\\lambda_t}{\\lambda_{t+1}} \\quad \\rightarrow \\quad \\frac{\\frac{\\beta^t}{c_t}}{\\frac{\\beta^{t+1}}{c_{t+1}}} &\n",
    "\\quad \\rightarrow \\quad \\frac{\\beta^t c_{t+1}}{\\beta^{t+1} c_{t}} &\n",
    "\\quad \\rightarrow \\quad \\frac{c_{t+1}}{\\beta c_{t}}\n",
    "\\end{align*}\n",
    "\n",
    "\\begin{align*}\n",
    "\\text{we obtain this system :     }\n",
    "& \\begin{cases}\n",
    "\\frac{\\beta^t}{c_t} = \\lambda_t \\\\\n",
    "\\frac{c_{t+1}}{\\beta c_t} = \\alpha k^{\\alpha-1}_{t+1} \\\\\n",
    "c_t + k_{t+1} = k^{\\alpha}_t \\\\\n",
    "\\lim_{t\\to\\infty} \\frac{\\beta^t}{c_t} k_{t+1} = 0 \\text{               (TSV cond.)}\n",
    "\\end{cases}\n",
    "\\end{align*}\n",
    "\n",
    "\\begin{align*}\n",
    "\\text{and so finally the key system equation :     }\n",
    "& \\begin{cases}\n",
    "\\frac{c_{t+1}}{\\beta c_t} = \\alpha k^{\\alpha-1}_{t+1} \\\\\n",
    "c_t + k_{t+1} = k^{\\alpha}_t \\\\\n",
    "\\end{cases}\n",
    "\\end{align*}\n"
   ]
  },
  {
   "cell_type": "code",
   "execution_count": null,
   "id": "8187a0ab",
   "metadata": {},
   "outputs": [],
   "source": []
  },
  {
   "cell_type": "markdown",
   "id": "2a724627",
   "metadata": {},
   "source": [
    "$(c)$ Briefly describe and derive the steady state of the system.\n"
   ]
  },
  {
   "cell_type": "markdown",
   "id": "4fd5e9f9",
   "metadata": {},
   "source": [
    "The steady state is defined as:\n",
    "\\begin{align*}\n",
    "& \\begin{cases}\n",
    "k_t = k_{t+1} = k \\\\\n",
    "c_t = c_{t+1} = c\n",
    "& \\end{cases}\n",
    "\\end{align*}\n",
    "\n",
    "\\begin{align*}\n",
    "\\text{so we have to rewrite in a \"steady state\" formulation all the variables :   } \\\\\n",
    "& \\begin{cases}\n",
    "\\frac{c}{\\beta c} = \\alpha k^{\\alpha-1} \\\\\n",
    "c + k = k^{\\alpha} \\\\\n",
    "\\end{cases}\n",
    "\\end{align*} \n",
    "\n",
    "\\begin{align*}\n",
    "\\text{and by semplifying :    } \\\\\n",
    "& \\begin{cases}\n",
    "\\frac{1}{\\beta} = \\alpha k^{\\alpha-1} \\\\\n",
    "c + k = k^{\\alpha} \\\\\n",
    "\\end{cases}\n",
    "\\end{align*}\n",
    "\n",
    "\\begin{align*}\n",
    "\\text{by trying to isolate the \"key\" variables \"c\" and \"k\" :    } \\\\\n",
    "& \\begin{cases}\n",
    "k^{\\alpha-1} = \\frac{1}{\\alpha \\beta}\\\\\n",
    "c + k = k^{\\alpha} \\\\\n",
    "\\end{cases}\n",
    "\\quad \\rightarrow \\quad\n",
    "& \\begin{cases}\n",
    "k = \\sqrt[\\alpha - 1 \\\\\\\\\\\\\\\\\\\\\\\\]{\\frac{1}{\\alpha \\beta}} \\\\\n",
    "c = \\sqrt[\\alpha - 1 \\\\\\\\\\\\\\\\\\\\\\\\]{\\frac{1}{\\alpha \\beta}}^{\\\\\\\\\\\\\\\\\\\\\\\\\\\\\\\\\\  \\alpha} - &\n",
    "\\sqrt[\\alpha - 1 \\\\\\\\\\\\\\\\\\\\\\\\]{\\frac{1}{\\alpha \\beta}}\n",
    "\\end{cases}\n",
    "\\end{align*}\n",
    "\n",
    "\\begin{align*}\n",
    "\\text{so these are the equations for the steady state variables :}\\\\\n",
    "& \\begin{cases}\n",
    "k = \\sqrt[\\alpha - 1 \\\\\\\\\\\\\\\\\\\\\\\\]{\\frac{1}{\\alpha \\beta}} \\\\\n",
    "c = \\sqrt[\\alpha - 1 \\\\\\\\\\\\\\\\\\\\\\\\]{\\frac{1}{\\alpha \\beta}}^{\\\\\\\\\\\\\\\\\\\\\\\\\\\\\\\\\\  \\alpha} - &\n",
    "\\sqrt[\\alpha - 1 \\\\\\\\\\\\\\\\\\\\\\\\]{\\frac{1}{\\alpha \\beta}}\n",
    "\\end{cases}\n",
    "\\end{align*}"
   ]
  },
  {
   "cell_type": "markdown",
   "id": "34100de2",
   "metadata": {},
   "source": [
    "$(d)$ Log linearize the two by two system"
   ]
  },
  {
   "cell_type": "markdown",
   "id": "94619502",
   "metadata": {},
   "source": [
    "\\begin{align*}\n",
    "\\text{and so finally the key system equation :     }\n",
    "& \\begin{cases}\n",
    "c_{t+1} = \\alpha k^{\\alpha-1}_{t+1} \\beta c_t\\\\\n",
    "k_{t+1} + c_t = k^{\\alpha}_t \\\\\n",
    "\\end{cases}\n",
    "\\end{align*}\n",
    "\n",
    "\n",
    "\\begin{align*}\n",
    "\\text{$ I) $ we first log linearize the Euler equation :     }\n",
    "c_{t+1} = \\alpha \\beta  k^{\\alpha-1}_{t+1} c_t\\\\\n",
    "\\end{align*}\n",
    "\n",
    "\\begin{align*}\n",
    "\\text{we take all the logs: }     \n",
    "\\ln{\\alpha} + \\ln{\\beta} + \\ln{c_t} + (\\alpha - 1) \\ln{k_{t+1}} = \\ln{c_{t+1}}\\\\\\\\\n",
    "\\text{RHS: } \\\\\\\\\n",
    "\\ln{c_{t+1}}  \\approx \\ln{c} + \\hat(c)_{t+1}\\\\\\\\\n",
    "\\text{LHS: } \\\\\\\\\n",
    "\\ln{\\alpha} + \\ln{\\beta} + ln{c} + \\hat(c)_t + (\\alpha - 1) [\\ln{k} + \\hat(k)_{t+1}]\n",
    "\\end{align*}\n",
    "\n",
    "\\begin{align*}\n",
    "\\text{we impose LHS=RHS}\\\\\\\\\n",
    "\\ln{\\alpha} + \\ln{\\beta} + ln{c} + \\hat{c}_t + (\\alpha - 1) [\\ln{k} + \\hat{k}_{t+1}] = \\ln{c} + \\hat{c}_{t+1}\\\\\n",
    "\\end{align*}\n",
    "\n",
    "\\begin{align*}\n",
    "\\text{by semplifying, we obtain the log linearization of the euler equation : }\\\\\\\\\n",
    "\\hat{c}_t + (\\alpha - 1) \\hat{k}_{t+1} = \\hat{c}_{t+1}\\\\\n",
    "\\end{align*}\n",
    "\n",
    "\\begin{align*}\n",
    "\\text{$ II) $ now we work with the capital constraint : }\\\\\\\\\n",
    "k^{\\alpha}_t - c_t  = k_{t+1} \\quad \\rightarrow \\quad &\n",
    "\\ln{(k^{\\alpha}_t - c_t)} = \\ln{(k_{t+1})}\\\\\n",
    "\\end{align*}\n",
    "\n",
    "\\begin{align*}\n",
    "\\text{ LHS : }\n",
    "\\ln{(k^{\\alpha}_t - c_t)} \\approx \\ln{(k^\\alpha - c)} + \\frac{\\alpha k^{\\alpha - 1}}{k^\\alpha - c} (k_t - k) - \\frac{1}{k^\\alpha - c} (c_t - c)\\\\\\\\\n",
    "\\text{ RHS : }\n",
    "\\ln{(k_{t+1})} \\approx \\ln{(k)} + \\frac{1}{k} (k_{t+1} - k)\\\\\\\\\n",
    "\\text{LHS=RHS}\\\\\n",
    "\\hat{k}_{t+1} = \\frac{\\alpha k^{\\alpha - 1}}{k^\\alpha - c} (k_t - k) - \\frac{1}{k^\\alpha - c} (c_t - c)\\\\\n",
    "\\text{after a bit of algebra, and remembering the steady state equations ( $k^\\alpha - c = k $ and $ \\alpha k^{\\alpha - 1} = \\frac{1}{\\beta} $}\\\\\\\n",
    "\\text{we obtain : }\n",
    "\\hat{k}_{t+1} = \\frac{1}{\\beta} \\hat{k}_t - \\frac{c}{k} \\hat{c}_t\n",
    "\\end{align*}"
   ]
  },
  {
   "cell_type": "code",
   "execution_count": null,
   "id": "c5e2ca4d",
   "metadata": {},
   "outputs": [],
   "source": []
  },
  {
   "cell_type": "markdown",
   "id": "2936d785",
   "metadata": {},
   "source": [
    "$(e)$ Put the system in state space"
   ]
  },
  {
   "cell_type": "markdown",
   "id": "aeaa0284",
   "metadata": {},
   "source": [
    "After separating the future variables ( $t+1$) from the presnt variables ( $t$) and moving the first ones to the left and the second ones to the right :"
   ]
  },
  {
   "cell_type": "markdown",
   "id": "b447c413",
   "metadata": {},
   "source": [
    "we obtain :\n",
    "\\begin{align}\n",
    "\\Gamma_0 X_{t+1} = \\Gamma_1 X_{t}\n",
    "\\end{align}"
   ]
  },
  {
   "cell_type": "markdown",
   "id": "44bc3274",
   "metadata": {},
   "source": [
    "\\begin{align}\n",
    "\\text{where}:\n",
    "X_{t}\n",
    "\\equiv\n",
    "\\begin{bmatrix}\n",
    "dk_{t}\\\\\n",
    "dc_{t}\n",
    "\\end{bmatrix},\\quad\n",
    "X_{t+1}\n",
    "\\equiv\n",
    "\\begin{bmatrix}\n",
    "dk_{t+1} \\\\\n",
    "dc_{t+1}\n",
    "\\end{bmatrix},\\quad\n",
    "\\Gamma_0\n",
    "\\equiv\n",
    "\\begin{bmatrix}\n",
    "1-\\alpha & 1 \\\\\n",
    "1 & 0\n",
    "\\end{bmatrix},\\quad\n",
    "\\Gamma_1\n",
    "\\equiv\n",
    "\\begin{bmatrix}\n",
    "0 & 1 \\\\\n",
    "\\frac{1}{\\beta} & 1-\\frac{1}{\\beta\\alpha}\n",
    "\\end{bmatrix} \\tag{1.23}\n",
    "\\end{align}\n",
    "\n",
    "\n",
    "\n",
    "\n",
    "\n",
    "\n"
   ]
  },
  {
   "cell_type": "code",
   "execution_count": null,
   "id": "38ba5343",
   "metadata": {},
   "outputs": [],
   "source": []
  },
  {
   "cell_type": "markdown",
   "id": "25dbccdf",
   "metadata": {},
   "source": [
    "$(f)$ Discuss why or why not the system can satisfy the Blanchard Khan conditions\n"
   ]
  },
  {
   "cell_type": "markdown",
   "id": "893f1f11",
   "metadata": {},
   "source": [
    "- Firstly $\\Gamma_0$ is invertible. Indeed by the codes below we can notice that the determinant of $ \\Gamma_0$ is different from $0$. Hence it makes sense to check weather the Blanchard Khan are fulfilled or not. They are stated as follows:\n",
    "\n",
    "\n",
    "\n",
    "$I)$ the matrix $P_{11}$ ($ie$ the matrix of eigen vectors corresponding to the stable eigenvalues) is invertible, then the system of difference equation has a unique solution for any given initial conditions $X_{s,t}$\n",
    "\n",
    "$II)$ the number of unstable eigenvalues of $A$ is equal to the number of non-predetermined variables \n",
    "\n"
   ]
  },
  {
   "cell_type": "markdown",
   "id": "9bf6d96a",
   "metadata": {},
   "source": [
    "To check conditions : \n",
    "\n",
    "$I)$  it is enough to ensure that the system of difference equations has a unique solution. This easy to check, indeed it is enough to notice that if $\\alpha$ is different from zero, and this is the case, there are no zero eigenvalues, hence the matrix $A$ has full rank and the system has a unique solution.\n",
    "\n",
    "\n",
    "To check $II)$ :\n",
    "\n",
    "We define the matrix $$A \\equiv \\Gamma_0 ^ {-1} \\Gamma_1 $$\n",
    "and compute its eigenvalues. \n",
    "\n",
    "We can easily find the two eigenvalues $\\lambda_1$ and $\\lambda_2$ through the determinant of the matrix $A-I\\lambda$ by simply applying two important theorems.\n",
    "\n",
    "- the determinant of a square matrix is equal to the product of its eigenvalues (and $A$ is $2x2$ hence squared)\n",
    "- the trace of a square matrix is equal to the sum of its eigenvalues\n",
    "\n",
    "After some algebra we get these two equation, that allow us to get the two desired eigenvalues.\n",
    "$$\\cfrac{1}{\\beta} = \\lambda_1 \\lambda_2 \\tag{1.24}$$\n",
    "\n",
    "$$\\alpha+\\cfrac{1}{\\alpha\\beta} = \\lambda_1 + \\lambda_2 \\tag{1.25}$$\n",
    "\n",
    "where the LHS of the $first$ equation is the determinant of $A$ and the LHS of the $2^{nd}$ equation is its trace.\n",
    "\n",
    "Through a system of these two equation we get $\\lambda_1 = \\alpha$ and $\\lambda_2 = \\cfrac{1}{\\alpha\\beta}$.\n",
    "\n",
    "They are both non negative and we can immediatly notice that if either $\\alpha$ or $\\beta$ are different from one, $\\lambda_2$ is larger than one, $ie$ the path of the economy is \"explosive\".\n",
    "\n",
    "The number of non-predetermined variables in our model is one (capital) hence if either $\\alpha$ or $\\beta$ are lower than one the condition $i)$ is fulfilled. \n",
    "\n",
    "Finally, by putting together :\n",
    "\n",
    "$I)$ and $II)$ we can notice that they both hold for $\\alpha \\neq 0$ and for any $\\beta$ in the interval $[0,1]$."
   ]
  },
  {
   "cell_type": "code",
   "execution_count": null,
   "id": "bd6671c6",
   "metadata": {},
   "outputs": [],
   "source": []
  },
  {
   "cell_type": "markdown",
   "id": "c19a9a8b",
   "metadata": {},
   "source": [
    "$(g)$ Assume $α = 0.33$, $β = 0.98$ and write a Python Code for solving the system of\n",
    "difference equation. Obtain the eigenvalues.....\n"
   ]
  },
  {
   "cell_type": "markdown",
   "id": "7c3f62f5",
   "metadata": {},
   "source": [
    "\\begin{align*}\n",
    "\\text{starting from the model in the general space representation : }\n",
    "& \\begin{cases}\n",
    "\\hat{k}_{t+1} = \\frac{1}{\\beta} \\hat{k}_t - \\frac{c}{k} \\hat{c}_t \\\\\n",
    "\\hat{c}_t = \\hat{c}_{t+1} - (\\alpha -1) \\hat{k}_{t+1}\n",
    "& \\end{cases}\n",
    "\\end{align*}\n",
    "\n",
    "\\begin{align*}\n",
    "\\text{anb by substituting the values of $\\alpha$ and $\\beta$ : }\n",
    "& \\begin{cases}\n",
    "\\hat{c}_t = \\hat{c}_{t+1} + 0.67 \\hat{k}_{t+1}\\\\\n",
    "\\hat{k}_{t+1} = \\frac{1}{0.98} \\hat{k}_t - \\frac{c}{k} \\hat{c}_t\n",
    "& \\end{cases}\n",
    "\\end{align*}\n",
    "\n",
    "\\begin{align*}\n",
    "\\text{anb by substituting the values of $\\alpha$ and $\\beta$ : }\n",
    "& \\begin{cases}\n",
    "0.67 \\hat{k}_{t+1} + \\hat{c}_{t+1}= \\hat{c}_t \\\\\n",
    "\\hat{k}_{t+1} + 0 \\hat{c}_{t} = 1.02 \\hat{k}_t - 2.0914 \\hat{c}_t\n",
    "& \\end{cases}\n",
    "\\end{align*}\n",
    "\n",
    "\\begin{align*}\n",
    "\\text{where :} \\frac{c}{k} = 2.0914\\\\\n",
    "\\end{align*}"
   ]
  },
  {
   "cell_type": "code",
   "execution_count": 1,
   "id": "26670e4b",
   "metadata": {},
   "outputs": [],
   "source": [
    "import numpy as np\n",
    "import matplotlib.pyplot as plt\n",
    "%matplotlib inline"
   ]
  },
  {
   "cell_type": "code",
   "execution_count": 2,
   "id": "e4614568",
   "metadata": {},
   "outputs": [
    {
     "name": "stdout",
     "output_type": "stream",
     "text": [
      "the matrix Gamma0 is invertible\n",
      "[[ 1.02040816 -2.09214595]\n",
      " [-0.68367347  2.40173779]]\n"
     ]
    }
   ],
   "source": [
    "α=0.33\n",
    "β=0.98\n",
    "\n",
    "c=(1/(α*β))**(α/(α-1)) - (1/(α*β))**(1/(α-1))\n",
    "k= (1/(α*β))**(1/(α-1))\n",
    "\n",
    "Γ0=np.asmatrix(np.zeros((2,2))) #gamma 0\n",
    "Γ1=np.asmatrix(np.zeros((2,2))) #gamma\n",
    "\n",
    "Γ0[0,0]=1-α\n",
    "Γ0[0,1]=1\n",
    "Γ0[1,0]=1\n",
    "\n",
    "Γ1[0,1]=1\n",
    "Γ1[1,0]=1/β\n",
    "Γ1[1,1]= 1- (1/(α*β)) # or alternatively: -c/k\n",
    "\n",
    "if np.linalg.det(Γ0)!=0:\n",
    "    print('the matrix Gamma0 is invertible')\n",
    "    A=np.linalg.inv(Γ0)*Γ1\n",
    "    print(A)\n",
    "else:\n",
    "    print('the matrix \\Gamma_0 is not invertible')"
   ]
  },
  {
   "cell_type": "code",
   "execution_count": 3,
   "id": "e6991fe6",
   "metadata": {},
   "outputs": [
    {
     "data": {
      "text/plain": [
       "matrix([[0.67, 1.  ],\n",
       "        [1.  , 0.  ]])"
      ]
     },
     "execution_count": 3,
     "metadata": {},
     "output_type": "execute_result"
    }
   ],
   "source": [
    "Γ0"
   ]
  },
  {
   "cell_type": "code",
   "execution_count": 4,
   "id": "cd30bb18",
   "metadata": {},
   "outputs": [
    {
     "data": {
      "text/plain": [
       "matrix([[ 0.        ,  1.        ],\n",
       "        [ 1.02040816, -2.09214595]])"
      ]
     },
     "execution_count": 4,
     "metadata": {},
     "output_type": "execute_result"
    }
   ],
   "source": [
    "Γ1"
   ]
  },
  {
   "cell_type": "code",
   "execution_count": 5,
   "id": "3a96c6c7",
   "metadata": {},
   "outputs": [
    {
     "name": "stdout",
     "output_type": "stream",
     "text": [
      "eigenvalues [0.33       3.09214595]\n"
     ]
    }
   ],
   "source": [
    "#%%\n",
    "#w are the eigenvalues\n",
    "#P is the matrix of eigenvector\n",
    "    \n",
    "w,P=np.linalg.eig(A)\n",
    "\n",
    "print(\"eigenvalues\",w) #blanchard conditions"
   ]
  },
  {
   "cell_type": "code",
   "execution_count": 6,
   "id": "83f9d0c7",
   "metadata": {},
   "outputs": [
    {
     "name": "stdout",
     "output_type": "stream",
     "text": [
      "Original Matrix A\n",
      "[[ 1.02040816 -2.09214595]\n",
      " [-0.68367347  2.40173779]]\n",
      "Diagonalised Matrix A\n",
      "[[ 1.02040816 -2.09214595]\n",
      " [-0.68367347  2.40173779]]\n"
     ]
    }
   ],
   "source": [
    "#Create matrix of eigenvalues\n",
    "MU=np.asmatrix(np.zeros((2,2)))\n",
    "MU[0,0]=w[0] #eigenvalue 0\n",
    "MU[1,1]=w[1]\n",
    "\n",
    "#SHOULD BE AS A\n",
    "AP=P*MU*np.linalg.inv(P)\n",
    "\n",
    "print(\"Original Matrix A\")\n",
    "print (A)\n",
    "\n",
    "print(\"Diagonalised Matrix A\")\n",
    "print(AP)"
   ]
  },
  {
   "cell_type": "code",
   "execution_count": 7,
   "id": "9fcd5721",
   "metadata": {},
   "outputs": [
    {
     "name": "stdout",
     "output_type": "stream",
     "text": [
      "Saddle Path passed\n",
      "One eigenvalue is greater one and one is lower than one\n",
      "[3.09214595 0.33      ]\n"
     ]
    }
   ],
   "source": [
    "eigenValues,eigenVectors = np.linalg.eig(A)\n",
    "#eigenValues is w \n",
    "#eigenVectors is v\n",
    "\n",
    "idx = eigenValues.argsort()[::-1]  # return the index of  largest to smallest \n",
    "eigenValues = eigenValues[idx]  #sort from largest to smallets\n",
    "eigenVectors = eigenVectors[:,idx]  #sort eigenvectors\n",
    "\n",
    "if eigenValues[1] >= 1: #smallest larger than one\n",
    "    print (\"no saddle path, both eigenvalues larger than one\")\n",
    "elif eigenValues[0] <= 1: #largest smaller than\n",
    "    print (\"no saddle path, both eigenvalues smaller than one\")\n",
    "else:\n",
    "    print  (\"Saddle Path passed\")\n",
    "    print (\"One eigenvalue is greater one and one is lower than one\") \n",
    "    print (eigenValues)\n",
    "    "
   ]
  },
  {
   "cell_type": "code",
   "execution_count": null,
   "id": "56ff0b51",
   "metadata": {},
   "outputs": [],
   "source": []
  },
  {
   "cell_type": "markdown",
   "id": "250ace40",
   "metadata": {},
   "source": [
    "$(h)$ What is the policy function of the linear system and what is the transition function? Obtain the numeric expressions of the two functions"
   ]
  },
  {
   "cell_type": "code",
   "execution_count": 8,
   "id": "33f23845",
   "metadata": {},
   "outputs": [],
   "source": [
    "\n",
    "##################################\n",
    "#ASSIGN EIGENVALUES\n",
    "#################################\n",
    "#s are for state variables\n",
    "#assign it to capital\n",
    "lam_s1=eigenValues[1]  #eigenvalues in the highest index is the smallest\n",
    "\n",
    "\n",
    "#u are for controls\n",
    "#lam_u=MU[1,1]  #unstable eigenvalue for consumption\n",
    "lam_u=eigenValues[0]  #eigenvalues in the lowest index is the largest\n",
    "\n",
    "#Create Matrix Variable to double check\n",
    "MUT=np.eye(2)\n",
    "MUT[0,0]=lam_s1\n",
    "MUT[1,1]=lam_u\n",
    "\n",
    "veT=np.asmatrix(np.zeros((2,2)))\n",
    "#ORDER EIGENVECTORS COHERENT WITH EIGENVALUES\n",
    "veT[:,0]=eigenVectors[:,1]\n",
    "veT[:,1]=eigenVectors[:,0]\n",
    "WT=veT*MUT*np.linalg.inv(veT)  #shoule be identical to AP\n",
    "\n",
    "#####################################\n",
    "#MATRIX P, P^(-1) a\n",
    "######################################### \n",
    "#WORK ON A TRANSFORMED MODEL\n",
    "#MATRIX OF EIGENVECTOR P\n",
    "P=veT\n",
    "Pinv=np.linalg.inv(veT)  #P inverse\n",
    "#Pinv=inv(AP)\n",
    "\n",
    "\n",
    "#######################################\n",
    "#TRANSFORMED VARIABLES AND PARTITION IT\n",
    "#######################################\n",
    "################################\n",
    "#MODEL IN NOW IN TRASNFORMED FORM \n",
    "################################\n",
    "#PX*_{t+1}=PINV MUT X*_{t}\n",
    "\n",
    "P_11=np.asmatrix(np.zeros((1,1)))\n",
    "P_12=np.asmatrix(np.zeros((1,1)))\n",
    "P_21=np.asmatrix(np.zeros((1,1)))\n",
    "P_22=np.asmatrix(np.zeros((1,1)))\n",
    "\n",
    "\n",
    "\n",
    "P_11[0,0]=P[0,0]\n",
    "P_12[0,0]=P[0,1]\n",
    "P_21[0,0]=P[1,0]\n",
    "P_22[0,0]=P[1,1]\n",
    "\n",
    "\n",
    "Pinv_11=np.linalg.inv(P_11)\n",
    "\n",
    "####################################\n",
    "#GO BACK TO ORIGINAL VARIABLES\n",
    "################################\n",
    "#X_t=P * MUT^T * INV(P) * X0\n",
    "######################################\n",
    "k_ss=(1/(α*β))**(α/(α*β))-(1/(α*β))**(1/(α*β))\n",
    "\n",
    "#######################################\n",
    "#INITIAL CONDITIONS\n",
    "#K0 GIVEN\n",
    "#C0 TI ENSURE SADDLE PATH\n",
    "####################################\n",
    "#Fixed an Initial Level of Capital\n",
    "dk0=-0.2*k_ss\n",
    "#dk0=-1  \n",
    "dc0=Pinv_11*P_21*dk0 #OPTIMAL INITIAL CONUMPTION TO ENSURE SADDLE PATH\n",
    "\n",
    "###########################\n",
    "#GENERATE SEQUENCE\n",
    "#########################    \n",
    "\n",
    "detP=P_11[0,0]*P_22[0,0]-P_12[0,0]*P_21[0,0]    \n",
    "\n",
    "    \n",
    "def sequence(dk0,dc0,t):\n",
    "    \n",
    "    dct=np.zeros(t) #zero array for consumption\n",
    "    dkt=np.zeros(t) #zero array for capital\n",
    "    for i in range(t):\n",
    "       \n",
    "\n",
    "        dct[i]=P_21*(lam_s1**(i+1))*(P_22*dk0-P_12*dc0)+P_22*(lam_u**(i+1))*(-P_21*dk0+P_11*dc0)\n",
    "        dct[i]=dct[i]/detP\n",
    "        \n",
    "        \n",
    "        dkt[i]=P_11*(lam_s1**(i+1))*(P_22*dk0-P_12*dc0)+P_12*(lam_u**(i+1))*(-P_21*dk0+P_11*dc0)\n",
    "        dkt[i]=dkt[i]/detP\n",
    "        \n",
    "    \n",
    "    return dct , dkt  #a list"
   ]
  },
  {
   "cell_type": "code",
   "execution_count": 9,
   "id": "08fc393f",
   "metadata": {},
   "outputs": [
    {
     "name": "stdout",
     "output_type": "stream",
     "text": [
      "_____________\n",
      "_____________\n",
      "policy function. X_j,t=POL*X_s,t [[0.33]]\n",
      "_____________\n",
      "_____________\n",
      "_____________\n",
      "_____________\n",
      "transition function:X_s,t+1=TRANS*X_s,t [[0.33]]\n",
      "_____________\n",
      "_____________\n"
     ]
    }
   ],
   "source": [
    "#POLICY AND TRANSITION FUNCTION\n",
    "POL=P_21*Pinv_11\n",
    "\n",
    "A11=A[0,0]\n",
    "A12=A[0,1]\n",
    "\n",
    "TRANS=A11+A12*POL\n",
    "\n",
    "print(\"_____________\")\n",
    "print(\"_____________\")\n",
    "print(\"policy function. X_j,t=POL*X_s,t\", POL)\n",
    "print(\"_____________\")\n",
    "print(\"_____________\")\n",
    "\n",
    "\n",
    "\n",
    "\n",
    "print(\"_____________\")\n",
    "print(\"_____________\")\n",
    "print(\"transition function:X_s,t+1=TRANS*X_s,t\", TRANS)\n",
    "print(\"_____________\")\n",
    "print(\"_____________\")\n"
   ]
  },
  {
   "cell_type": "code",
   "execution_count": null,
   "id": "42d7c979",
   "metadata": {},
   "outputs": [],
   "source": []
  },
  {
   "cell_type": "markdown",
   "id": "30635af4",
   "metadata": {},
   "source": [
    "$(i)$ Try to obtain the same policy and transition function using the library linearsolve"
   ]
  },
  {
   "cell_type": "code",
   "execution_count": 10,
   "id": "7e39ef00",
   "metadata": {},
   "outputs": [
    {
     "name": "stdout",
     "output_type": "stream",
     "text": [
      "λ_1 :  (0.3299999999999893+0j)\n",
      "λ_2 :  (3.092145949289062+0j)\n"
     ]
    }
   ],
   "source": [
    "import linearsolve as ls\n",
    "import pandas as pd\n",
    "\n",
    "\n",
    "parameters = pd.Series(dtype=float)\n",
    "parameters['alpha']  = 0.33\n",
    "parameters['beta']  = 0.98\n",
    "\n",
    "\n",
    "# Funtion that evaluates the equilibrium conditions\n",
    "def equations(variables_forward,variables_current,parameters):\n",
    "\n",
    "    # Parameters\n",
    "    p = parameters\n",
    "    \n",
    "    #k = (1/(p.alpha * p.beta))**(1/(p.alpha -1))\n",
    "    #c = (1/(p.alpha * p.beta))**(p.alpha/(p.alpha -1)) - (1/(p.alpha * p.beta))**(1/(p.alpha -1))\n",
    "    \n",
    "\n",
    "    # Variables\n",
    "    fwd = variables_forward\n",
    "    cur = variables_current\n",
    "\n",
    "    # Household Euler equation\n",
    "    euler_eqn= p.alpha*fwd.k**(p.alpha - 1) - fwd.c/(p.beta * cur.c)\n",
    "\n",
    "\n",
    "    # Goods market clearing \n",
    "    resource_constraint = cur.c + fwd.k - (cur.k**p.alpha)\n",
    "\n",
    "    # Stack equilibrium conditions into a numpy array\n",
    "    return np.array([\n",
    "            euler_eqn,\n",
    "            resource_constraint,\n",
    "        ])\n",
    "\n",
    "# Initialize the model\n",
    "model = ls.model(equations = equations,\n",
    "                 n_states=1,\n",
    "                 n_exo_states =1,\n",
    "                 var_names=['k','c'],\n",
    "                 parameters = parameters)\n",
    "\n",
    "# Compute the steady state numerically\n",
    "guess = [0.2,0.2]\n",
    "model.compute_ss(guess) # it compute the stady state\n",
    "\n",
    "model.approximate_and_solve() \n",
    "\n",
    "print(\"λ_1 : \", model.eig[0])\n",
    "print(\"λ_2 : \", model.eig[1])"
   ]
  },
  {
   "cell_type": "code",
   "execution_count": 11,
   "id": "8f2eeae4",
   "metadata": {},
   "outputs": [
    {
     "name": "stdout",
     "output_type": "stream",
     "text": [
      "Policy function: C_t = [[0.33]] + K_t\n",
      "Transition function: K_{t+1} = [[0.33]] * K_t + C_t\n"
     ]
    }
   ],
   "source": [
    "print(\"Policy function: C_t = %s + K_t\" % model.p)\n",
    "print(\"Transition function: K_{t+1} = %s * K_t + C_t\" % model.f)"
   ]
  },
  {
   "cell_type": "code",
   "execution_count": null,
   "id": "3b19f040",
   "metadata": {},
   "outputs": [],
   "source": []
  },
  {
   "cell_type": "markdown",
   "id": "8020b180",
   "metadata": {},
   "source": [
    "$2)$ Consider the following deterministic model with leisure in the utility function:\n",
    "\\begin{equation}\n",
    "\\max_{c_t, n_t, k_{t+1}} \\sum_{t=0}^{\\infty} \\beta^t [\\ln c_t + \\varphi \\ln(1-n_t)]\\\\\n",
    "\\text{subject to :}\\\\\n",
    "c_t + k_{t+1} - (1-\\delta)k_t = z_t k_t^{\\alpha} n_{t}^{1-\\alpha}\\\\\n",
    "k_0 \\text{ given}\n",
    "\\end{equation}"
   ]
  },
  {
   "cell_type": "markdown",
   "id": "946bf8f4",
   "metadata": {},
   "source": [
    "$(a)$ Set up the Lagrangean and show that the first order conditions are:\n",
    "\n",
    "\\begin{align*}\n",
    "& \\begin{cases}\n",
    "\\frac{1}{c_t} = \\frac{\\beta}{c_{t+1}}[z_{t+1} \\alpha k_{t+1}^{\\alpha-1} n_{t+1}^{1-\\alpha} + 1-\\delta]\\\\\n",
    "\\frac{\\phi}{1-n_t} = (1-\\alpha) z_t k_t^\\alpha n_t^{-\\alpha}\\\\\n",
    "\\\\\n",
    "\\text{TVC}\\\\\n",
    "\\end{cases}\n",
    "\\end{align*}\n"
   ]
  },
  {
   "cell_type": "markdown",
   "id": "13bdb11c",
   "metadata": {},
   "source": []
  },
  {
   "cell_type": "markdown",
   "id": "a321155c",
   "metadata": {},
   "source": [
    "\\begin{align*}\n",
    "& \\begin{cases}\n",
    "\\frac{1}{c_t} = \\beta \\frac{1}{c_{t+1}}\\left[\\frac{z_{t+1} \\alpha k_{t+1}^{\\alpha-1} n_{t+1}^{1-\\alpha} + 1-\\delta}{z_t}\\right]\\\\\n",
    "\\frac{\\phi}{1-n_t} = (1-\\alpha) z_t k_t^\\alpha n_t^{-\\alpha}\\\\\n",
    "\\\\\n",
    "\\text{TVC}\\\\\n",
    "\\end{cases}\n",
    "\\end{align*}\n",
    "\n",
    "\n",
    "\\begin{equation}\n",
    "L = \\sum_{t=0}^{\\infty} \\beta^t[\\ln{c_t}+ \\phi \\ln{(1-n_t)}]+ \\sum_{t=0}^{\\infty} \\lambda_t[z_t k^{\\alpha}_t n^{1-\\alpha}_t - c_t - k_{t+1} + (1 - \\delta) k_t]\n",
    "\\end{equation}\n",
    "\n",
    "\n",
    "\\begin{align*}\n",
    "& \\begin{cases}\n",
    "\\frac{\\partial L}{\\partial c_t} = 0 \\\\\n",
    "\\frac{\\partial L}{\\partial n_{t}} = 0 \\\\\n",
    "\\frac{\\partial L}{\\partial \\lambda} = 0 \\\\\n",
    "\\text{transversality condition}\n",
    "\\end{cases}\n",
    "\\end{align*}\n",
    "\n",
    "\n",
    "\\begin{align*}\n",
    "& \\begin{cases}\n",
    "\\frac{\\beta^t}{c_t} = \\lambda_t \\\\\n",
    "-\\frac{\\beta^t \\phi}{1-n_t} + (1- \\alpha) \\lambda_t z_t k^{\\alpha}_t n^{-\\alpha}_t = 0 \\\\\n",
    "\\lambda_t + \\lambda_{t+1}[\\alpha z_t k^{\\alpha}_t n^{1-\\alpha}_t - c_t - k_{t+1} + (1 - \\delta) k_t] =0\\\\\n",
    "z_t k^{\\alpha}_t n^{1-\\alpha}_t - c_t - k_{t+1} + (1 - \\delta) k_t = 0 \\\\\n",
    "\\lim_{t\\to\\infty} \\lambda_t k_{t+1} = 0  \\ \\ \\ \\ \\ \\text{(TVC)}\n",
    "\\end{cases}\n",
    "\\end{align*}\n",
    "\\\n",
    "\\begin{align*}\n",
    "\\text{now we can put our F.O.C. in a different way}\n",
    "\\end{align*}\n",
    "\\\n",
    "\\begin{align*}\n",
    "\\text{since that, by the first equation we have :} \\\\\n",
    "\\frac{\\beta^t}{c_t} &= \\lambda_t \\\\\n",
    "\\\\\n",
    "\\text{we can substitute it into the second equation :}\n",
    "\\\\\n",
    "\\\\\n",
    "\\frac{\\beta^t \\phi}{1-n_t} - (1- \\alpha) \\lambda_t z_t k^{\\alpha}_t n^{-\\alpha} \\quad \\rightarrow \\quad \\frac{\\beta^t \\phi}{1-n_t} - (1- \\alpha) \\frac{\\beta^t}{c_t} z_t k^{\\alpha}_t n^{-\\alpha}  &\n",
    "\\quad \\rightarrow \\quad (1- \\alpha) z_t k^{\\alpha}_t n^{-\\alpha} = \\frac{\\frac{\\beta^t \\phi}{1-n_t}}{\\frac{\\beta^t}{c_t}}  & \n",
    "\\quad \\rightarrow \\quad \\frac{c_{t} \\phi}{1-n_t} = (1- \\alpha) z_t k^{\\alpha}_t n^{-\\alpha}\n",
    "\\end{align*}\n",
    "\n",
    "\\begin{align*}\n",
    "\\text{from the third equation we have :} \\\\\n",
    "\\end{align*}\n",
    "\n",
    "\\begin{align*}\n",
    "\\lambda_t + \\lambda_{t+1}[\\alpha z_{t+1} k^{\\alpha-1}_{t+1} n^{1-\\alpha}_{t+1} (1 - \\delta)] &\n",
    "\\quad \\rightarrow \\quad \\frac{\\lambda_t}{\\lambda^{t+1}} = [\\alpha z_{t+1} k^{\\alpha-1}_{t+1} n^{1-\\alpha}_{t+1} (1 - \\delta)] &\n",
    "\\quad \\rightarrow \\quad \\frac{\\frac{\\beta^t}{c_t}}{\\frac{\\beta^{t+1}}{c_{t+1}}} = [\\alpha z_{t+1} k^{\\alpha-1}_{t+1} n^{1-\\alpha}_{t+1} (1 - \\delta)]\n",
    "\\end{align*}\n",
    "\n",
    "\\begin{align*}\n",
    "\\frac{1}{c_t} = \\frac{\\beta}{c_{t+1}} [\\alpha z_{t+1} k^{\\alpha-1}_{t+1} n^{1-\\alpha}_{t+1} (1 - \\delta)]\n",
    "\\end{align*}\n",
    "\n",
    "\\begin{align*}\n",
    "\\text{and so finally we obtain:}\\\\\n",
    "& \\begin{cases}\n",
    "\\frac{1}{c_t} = \\frac{\\beta}{c_{t+1}} [\\alpha z_{t+1} k^{\\alpha-1}_{t+1} n^{1-\\alpha}_{t+1} (1 - \\delta)]\\\\\n",
    "c_t + k_{t+1} = z_t k^{\\alpha}_t n^{1-\\alpha}_t + (1-\\alpha) k_t\\\\\n",
    "\\frac{\\phi}{1-n_t}= (1-\\alpha) z_t k^{\\alpha}_t n^{-\\alpha}_t\\\\\n",
    "R_{t} = \\alpha z_t + k^{\\alpha - 1}_{t+1} n^{1 - \\alpha}_t + (1-\\delta)\n",
    "\\\\\n",
    "\\text{TVC}\\\\\n",
    "\\end{cases}\n",
    "\\end{align*}\n",
    "\n",
    "\\begin{align*}\n",
    "\\text{and in a more compact way:}\\\\\n",
    "& \\begin{cases}\n",
    "1 = \\frac{\\beta c_t}{c_{t+1}} [R_{t+1}]\\\\\n",
    "c_t + k_{t+1} = z_t k^{\\alpha}_t n^{1-\\alpha}_t + (1 - \\delta) k_t\\\\\n",
    "\\phi = c^{-1}_t (1- n_t) (1-\\alpha) \\frac{y_t}{n_t}\\\\\n",
    "R_t = \\alpha z_t k^{\\alpha-1}_t n^{1-\\alpha}_t + (1-\\delta)\n",
    "\\end{cases}\n",
    "\\end{align*}\n",
    "\n"
   ]
  },
  {
   "cell_type": "markdown",
   "id": "11c6ddd7",
   "metadata": {},
   "source": [
    "\\begin{align*}\n",
    "\\text{our steady state is characterized by :}\\\\\n",
    "& \\begin{cases}\n",
    "k_t = k_{t+1} = k\\\\\n",
    "c_t = c_{t+1} = c\\\\\n",
    "n_t = n_{t+1} = n\\\\\n",
    "\\end{cases}\n",
    "\\end{align*}\n",
    "\n",
    "\n",
    "\\begin{align*}\n",
    "\\text{and in a more compact way:}\\\\\n",
    "& \\begin{cases}\n",
    "1 = \\beta[r^*]\\\\\n",
    "r^* = \\alpha \\frac{y^*}{k^*} +1 - \\delta\\\\\n",
    "\\frac{c^*}{k^*} + \\delta = \\frac{y^*}{k^*}\\\\\n",
    "y^*= k^{* 1 - \\alpha} - n^{* \\alpha}\n",
    "\\end{cases}\n",
    "\\end{align*}\n",
    "\n",
    "but in a more detailed way the system result as follow :\n",
    "\n",
    "\\begin{align}\n",
    "\\begin{cases}\n",
    "1 = \\beta [z\\alpha {k}^{\\alpha - 1}{n}^{1 - \\alpha} + 1 - \\delta] \\; \\longrightarrow \\; k = (\\frac{z\\alpha {n}^{1-\\alpha}}{\\frac{1}{\\beta} - 1 + \\delta})^{\\frac{1}{1 - \\alpha}}\\\\\n",
    "\\cfrac{\\phi c}{1 - n} = (1 - \\alpha)z{k}^{\\alpha}{n}^{-\\alpha} \\\\\n",
    "c + \\delta k = z{k}^\\alpha{n}^{1-\\alpha} \\; \\longrightarrow \\; c = z{k}^\\alpha{n}^{1-\\alpha} - \\delta k\\\\\n",
    "\\end{cases}\n",
    "\\end{align}\n"
   ]
  },
  {
   "cell_type": "code",
   "execution_count": null,
   "id": "c75bf9cc",
   "metadata": {},
   "outputs": [],
   "source": []
  },
  {
   "cell_type": "markdown",
   "id": "dd0d6e18",
   "metadata": {},
   "source": [
    "$(b)$ Log linearize the first order conditions."
   ]
  },
  {
   "cell_type": "markdown",
   "id": "5df57aca",
   "metadata": {},
   "source": [
    "We will now approximate the equations in the previous system around their steady state values by using a first order Taylor expansion after taking the logarithm of them. Please note that this process may involve a significant amount of algebra. To simplify, we assume that $z_t$ is constant and deterministic, so we can set $dz_t = 0$ at this point.\n",
    "\n",
    "Let us start with the first equation:\n",
    "\\begin{align}\n",
    "\\frac{1}{c_t} &= \\frac{\\beta}{c_{t+1}} [z_{t+1}\\alpha k_{t+1}^{\\alpha - 1}n_{t+1}^{1-\\alpha} + 1 - \\delta] \\\n",
    "\\ln{c_{t+1}} - \\ln{c_t} &= \\ln{\\beta} +\\ln{(z_{t+1}\\alpha k_{t+1}^{\\alpha - 1}n_{t+1}^{1-\\alpha} + 1 - \\delta)} \\\\\n",
    "\\end{align}\n",
    "\n",
    "We can apply the first order Taylor approximation using the definition $dx_{t} \\equiv \\frac{x_{t} - x}{x}$ for $x$ in ${c,k,n}$, and obtain:\n",
    "\n",
    "\n",
    "\\begin{align}\n",
    "dc_{t+1}-dc_t &= \\ln{\\beta} + \\frac{z\\alpha (\\alpha-1)k^{\\alpha-2}n^{1-\\alpha}(k_{t+1}-k) + z\\alpha(1-\\alpha)k^{\\alpha-1}n^{-\\alpha}(n_{t+1}-n)} {z_{t+1}\\alpha k_{t+1}^{\\alpha - 1}n_{t+1}^{1-\\alpha} + 1 - \\delta} + \\ln{(z_{t+1}\\alpha k_{t+1}^{\\alpha - 1}n_{t+1}^{1-\\alpha} + 1 - \\delta)} \\\\\n",
    "\\end{align}\n",
    "\n",
    "\n",
    "We can simplify the expression by noting that $z_{t+1}\\alpha k_{t+1}^{\\alpha - 1}n_{t+1}^{1-\\alpha} + 1 - \\delta$ is equal to $1/\\beta$, and $z \\alpha k^{\\alpha-1}n^{1-\\alpha} = 1/\\beta +\\delta -1$.\n",
    "\n",
    "Substituting and simplifying further, we obtain:\n",
    "\n",
    "\\begin{equation}\n",
    "dc_{t+1}-dc_t = \\beta (\\alpha - 1) (1/\\beta + \\delta -1) dk_{t+1} + \\beta (1-\\alpha) (1/\\beta + \\delta -1) dn_{t+1} \\\\\n",
    "\\end{equation}\n",
    "\n",
    "Next, consider the second equation:\n",
    "\n",
    "\\begin{equation}\n",
    "\\cfrac{c_t \\phi}{1-n_t} = (1-\\alpha)z_t {k_t}^\\alpha {n_t}^{-\\alpha} \\\\\n",
    "\\end{equation}\n",
    "\n",
    "Taking the logarithm, we obtain:\n",
    "\n",
    "\\begin{equation}\n",
    "\\ln{\\phi} + \\ln{c_t} - ln{(1-n_t)} = ln{(1-\\alpha)} +\\ln{z_t} + \\alpha \\ln{k_t} - \\alpha \\ln{n_t} \\\\\n",
    "\\end{equation}\n",
    "\n",
    "We can apply the first order Taylor approximation and collect terms:\n",
    "\n",
    "\n",
    "Let us consider the following equation:\n",
    "\n",
    "\\begin{equation}\n",
    "\\ln{\\left(\\frac{\\phi c z k^\\alpha n^{-\\alpha}}{(1-n)(1-\\alpha)}\\right)} + dc_t + \\frac{n}{1-n}dc_n = \\alpha(dk_t-dn_t) \\\\\n",
    "\\end{equation}\n",
    "\n",
    "Note that in the steady state, $\\phi c = (1-\\alpha)(1-n)k^\\alpha n^{-\\alpha}$, which means that the first logarithm in the previous equation is equal to zero. Therefore, we can simplify the equation to:\n",
    "\n",
    "\\begin{equation}\n",
    "dc_t + \\frac{n}{1-n}dc_n = \\alpha(dk_t - dn_t)\\\\\n",
    "\\end{equation}\n",
    "\n",
    "\n",
    "Let's present the third equation in a different way:\n",
    "\n",
    "Starting with this equation:\n",
    "$\n",
    "c_t + k_{t+1} - (1-\\delta)k_t = z_t k_t^\\alpha n_t^{1-\\alpha} $\n",
    "\n",
    "Taking the natural logarithm of both sides and using properties of logarithms, we get:\n",
    "$ \\ln(c_t + k_{t+1} - (1-\\delta)k_t) = \\ln(z_t) + \\alpha\\ln(k_t) + (1-\\alpha)\\ln(n_t) $\n",
    "\n",
    "Using the first-order Taylor approximation around the steady-state values, we get:\n",
    "$\\ln(c + \\delta k) + \\cfrac{k}{c+\\delta k}(c_t - c + k_{t+1} - k - (1-\\delta)(k_t-k)) = \\ln(z) + \\alpha\\ln(k) + \\alpha dk_t + (1-\\alpha)\\ln(n) + (1-\\alpha)dn_t $\n",
    "\n",
    "Then, we can simplify and rearrange to obtain the desired form:\n",
    "$\\cfrac{k}{c+\\delta k}dk_{t+1} = (\\alpha+\\cfrac{(1-\\delta)k}{c+\\delta k})dk_t - \\cfrac{c}{c+\\delta k}dc_t + (1-\\alpha)dn_t $"
   ]
  },
  {
   "cell_type": "code",
   "execution_count": null,
   "id": "9031f828",
   "metadata": {},
   "outputs": [],
   "source": []
  },
  {
   "cell_type": "markdown",
   "id": "555a657f",
   "metadata": {},
   "source": [
    "$c)$ Write the model in State space form  and show that $A$ is not\n",
    "invertible"
   ]
  },
  {
   "cell_type": "markdown",
   "id": "2a45f0d2",
   "metadata": {},
   "source": [
    "\\begin{align}\n",
    "\\begin{cases}\n",
    "-\\beta(\\alpha - 1)(\\frac{1}{\\beta}-1+\\delta)dk_{t+1} - \\beta(1 - \\alpha)(\\frac{1}{\\beta}-1+\\delta)dn_{t+1} + dc_{t+1} &=  0dk_t + 0dn_t +dc_t\\\\\n",
    "0dk_{t+1} + 0dn_{t+1} + 0dc_{t+1} &= \\alpha dk_t - (\\frac{n}{1-n} + \\alpha)dn_t - dc_t\\\\\n",
    "\\frac {k} {c+\\delta k} dk_{t+1} + 0dn_{t+1} + 0dc_{t+1} &= (\\alpha + \\frac {(1-\\delta)k} {c+\\delta k})dk_t - \\frac {c}{c+\\delta k} dc_t + (1-\\alpha)dn_t\\\\\n",
    "\\lim_{t \\to \\infty} \\lambda_t k_{t+1} &= 0 \\\\\n",
    "\\end{cases}\n",
    "\\end{align}\n",
    "\n",
    "\n",
    "\n",
    "We can observe that the matrix $A$ is not invertible due to its elements being the coefficients of the left-hand side of the system. Additionally, its determinant is equal to zero, as one entire row consists of zeros."
   ]
  },
  {
   "cell_type": "code",
   "execution_count": null,
   "id": "89e6b427",
   "metadata": {},
   "outputs": [],
   "source": []
  },
  {
   "cell_type": "markdown",
   "id": "fffae961",
   "metadata": {},
   "source": [
    "$d)$ Use the Schur decomposition and explain briefly how to obtain the generalized\n",
    "eigenvalues for the problem at hand"
   ]
  },
  {
   "cell_type": "markdown",
   "id": "cd997e19",
   "metadata": {},
   "source": [
    "As the matrix $A$ is not invertible, we can use Schur decomposition to solve the system. Schur decomposition provides us with two orthonormal matrices, $q$ and $z$, such that $qAz = a$ and $qBz = b$, where $a$ and $b$ are upper triangular matrices. To obtain the generalized eigenvalues, we first need to find the eigenvalues of matrix $A$ and their associated eigenvectors. This will give us the eigenvector matrix, which we then orthonormalize using the Gram-Schmidt orthogonalization process to obtain the matrix $q$, with $z = q^T$. We then compute the product of $qAz$ to obtain the first upper triangular matrix $a$, and repeat the same procedure for $B$ to obtain the second upper triangular matrix $b$. Finally, we can take the ratio of the corresponding diagonal elements of the two matrices to obtain the generalized eigenvalues."
   ]
  },
  {
   "cell_type": "code",
   "execution_count": null,
   "id": "efdaefd1",
   "metadata": {},
   "outputs": [],
   "source": []
  },
  {
   "cell_type": "markdown",
   "id": "1dcd0b59",
   "metadata": {},
   "source": [
    "$e)$ Write a simple code with values $\\phi = 0.5$, $\\beta = 0.98$ and $\\alpha = 0.3$ and show\n",
    "numerically that the model has a unique stable steady state. For the value of $z_t$\n",
    "simply assumes that is equal to 1 for any $t$."
   ]
  },
  {
   "cell_type": "code",
   "execution_count": 12,
   "id": "e8333757",
   "metadata": {},
   "outputs": [],
   "source": [
    "# Import necessary libraries\n",
    "import numpy as np      # NumPy is a library for numerical computing\n",
    "import scipy.linalg as la  # SciPy is a library for scientific computing and linalg module provides linear algebra functions\n",
    "import scipy            # SciPy library\n",
    "\n",
    "# Set up the parameters\n",
    "α = 0.3                # Capital share of income\n",
    "β = 0.98               # Discount rate\n",
    "ϕ = 0.5                # Elasticity of output with respect to capital\n",
    "δ = 0.08               # Depreciation rate\n",
    "\n",
    "n = 1/3                # Assumption: people work for a third of their day (steady-state level)\n",
    "\n",
    "# Compute steady-state values for capital and consumption\n",
    "k = ((α * (n)**(1 - α)) / ((1 / β) - 1 + δ)) ** (1 / (1 - α))     # Steady-state capital per effective worker\n",
    "c = ((k)**α) * (n)**(1 - α) - δ*k      # Steady-state consumption per effective worker\n",
    "#qui"
   ]
  },
  {
   "cell_type": "code",
   "execution_count": 13,
   "id": "59bce0dd",
   "metadata": {},
   "outputs": [],
   "source": [
    "#define the matrices A and B\n",
    "A=np.asmatrix(np.zeros((3,3)))\n",
    "B=np.asmatrix(np.zeros((3,3)))\n",
    "\n",
    "A[0,0] = -β * (α - 1) * ((1 / β) - 1 + δ)\n",
    "A[0,1] = -β * (1 - α) * ((1 / β) - 1 + δ)\n",
    "A[0,2] = 1\n",
    "\n",
    "A[2,0] = (k / (c + δ * k))\n",
    "\n",
    "\n",
    "\n",
    "B[0,2] = 1\n",
    "\n",
    "B[1,0] = α\n",
    "B[1,1] = -((n / (1 - n)) - α) \n",
    "B[1,2] = -1\n",
    "\n",
    "B[2,0] = α + (((1- δ) * k) / (c + δ * k)) \n",
    "B[2,1] = 1 - α\n",
    "B[2,2] = -(c / (c + δ * k))\n"
   ]
  },
  {
   "cell_type": "code",
   "execution_count": 14,
   "id": "38432125",
   "metadata": {},
   "outputs": [
    {
     "data": {
      "text/plain": [
       "0.0"
      ]
     },
     "execution_count": 14,
     "metadata": {},
     "output_type": "execute_result"
    }
   ],
   "source": [
    "#check A invertible\n",
    "np.linalg.det(A)\n",
    "\n",
    "#it is not invertible because the determinant = 0 !!"
   ]
  },
  {
   "cell_type": "code",
   "execution_count": 15,
   "id": "8ccb522a",
   "metadata": {},
   "outputs": [],
   "source": [
    "#apply Schur decomposition\n",
    "AA, BB, a, b, q, z = la.ordqz(A, B, sort='ouc', output='complex')"
   ]
  },
  {
   "cell_type": "code",
   "execution_count": 16,
   "id": "e87efdf0",
   "metadata": {},
   "outputs": [],
   "source": [
    "#generalized eigenvalues\n",
    "lambda_1 = BB[0,0]/AA[0,0]\n",
    "lambda_2 = BB[1,1]/AA[1,1]\n",
    "lambda_3 = BB[2,2]/AA[2,2]"
   ]
  },
  {
   "cell_type": "code",
   "execution_count": 17,
   "id": "efdb4d05",
   "metadata": {},
   "outputs": [
    {
     "data": {
      "text/plain": [
       "((0.7940312977747691+0j), (3991757883333803.5+0j), (1.2850981644236774+0j))"
      ]
     },
     "execution_count": 17,
     "metadata": {},
     "output_type": "execute_result"
    }
   ],
   "source": [
    "lambda_1, lambda_2, lambda_3"
   ]
  },
  {
   "cell_type": "markdown",
   "id": "6d8f73fd",
   "metadata": {},
   "source": [
    "\n",
    "The generalized eigenvalues of matrices A and B can be obtained by computing the ratios of their corresponding diagonal elements, i.e., $\\frac{b(i,i)}{a(i,i)}$.\n",
    "\n",
    "To recover the unique solution of the system using Schur decomposition, we require that the number of unstable generalized eigenvalues (i.e., those with a real part greater than 1 in absolute value) is equal to the number of jumping variables.\n",
    "\n",
    "In the current scenario, we have two jumping variables, consumption and leisure, and two unstable eigenvalues, which satisfies the required condition."
   ]
  },
  {
   "cell_type": "code",
   "execution_count": 18,
   "id": "5d118e74",
   "metadata": {},
   "outputs": [
    {
     "name": "stdout",
     "output_type": "stream",
     "text": [
      "[7.94031298e-01 3.99175788e+15 1.28509816e+00]\n",
      "Stable\n"
     ]
    }
   ],
   "source": [
    "# Number of jumping variables\n",
    "number_j = 2 # consumption, leisure\n",
    "number_unstable_lambda = 2\n",
    "\n",
    "# An array for the generalized eigenvalues\n",
    "ge_eigenvalues = np.zeros(3) # number of variables\n",
    "\n",
    "# Calculate the generalized eigenvalues by taking the real part of the ratio of the corresponding elements of matrices BB and AA\n",
    "for ii in range(3):\n",
    "    ge_eigenvalues[ii] = np.real(BB[ii, ii] / AA[ii, ii]) # ignore imaginary part\n",
    "\n",
    "# Print the generalized eigenvalues\n",
    "print(ge_eigenvalues)\n",
    "\n",
    "# Check stability by looking at the absolute value of the first generalized eigenvalue\n",
    "if abs(ge_eigenvalues[0]) < 1:\n",
    "    print('Stable')\n",
    "\n",
    "# Partition of z\n",
    "z = np.asmatrix(z) \n",
    "\n",
    "# Partition z to have its stable submatrix z_11\n",
    "z11 = z[0:1, 0:1]  # stable part of z\n",
    "z12 = z[0:1, 1:3]\n",
    "z21 = z[1:3, 0:3]  # unstable part\n",
    "z22 = z[1:3, 1:3]\n",
    "\n",
    "# Convert the partitions of z into matrices\n",
    "z11 = np.asmatrix(z11)\n",
    "z12 = np.asmatrix(z12)\n",
    "z21 = np.asmatrix(z21)\n",
    "z22 = np.asmatrix(z22)\n",
    "\n",
    "# Invert z11\n",
    "z11_inv = np.linalg.inv(z11)  \n",
    "z11_inv = np.asmatrix(z11_inv)\n"
   ]
  },
  {
   "cell_type": "code",
   "execution_count": 19,
   "id": "0a741b01",
   "metadata": {},
   "outputs": [
    {
     "name": "stdout",
     "output_type": "stream",
     "text": [
      "0.7940312977747691\n",
      "3991757883333803.5\n",
      "1.2850981644236774\n"
     ]
    }
   ],
   "source": [
    "for i in ge_eigenvalues :\n",
    "    print (i) #they are right ! two explosives and one <1"
   ]
  },
  {
   "cell_type": "code",
   "execution_count": 20,
   "id": "e09f1920",
   "metadata": {},
   "outputs": [
    {
     "data": {
      "text/plain": [
       "matrix([[1.20025428+0.j]])"
      ]
     },
     "execution_count": 20,
     "metadata": {},
     "output_type": "execute_result"
    }
   ],
   "source": [
    "#partition of a and b\n",
    "a11 = AA[0:1,0:1]\n",
    "b11 = BB[0:1,0:1]\n",
    "\n",
    "a11 = np.asmatrix(a11)\n",
    "b11 = np.asmatrix(b11)\n",
    "\n",
    "#check invertibility of z11 (determiant different from zero)\n",
    "np.linalg.inv(z11)"
   ]
  },
  {
   "cell_type": "markdown",
   "id": "ab24a023",
   "metadata": {},
   "source": [
    "$z_{11}$ is a scalar (different from zero) hence invertible.\n",
    "The conditions for uniqness of solution are fulfilled."
   ]
  },
  {
   "cell_type": "code",
   "execution_count": null,
   "id": "871f7387",
   "metadata": {},
   "outputs": [],
   "source": []
  },
  {
   "cell_type": "markdown",
   "id": "e7169bc7",
   "metadata": {},
   "source": [
    "$f)$ Obtain numerically the policy function and the transition function."
   ]
  },
  {
   "cell_type": "code",
   "execution_count": 21,
   "id": "7fd24588",
   "metadata": {},
   "outputs": [
    {
     "name": "stdout",
     "output_type": "stream",
     "text": [
      "Policy Function in the Model\n",
      "n_t = -0.53 * k_t\n",
      "c_t = 0.41 * k_t\n",
      "Transition Function in the Model\n",
      "k_t+1 = 0.79 * k_t\n"
     ]
    }
   ],
   "source": [
    "# Calculate the matrices G and H for the policy and transition functions, respectively\n",
    "G = np.real(-np.linalg.inv(z22.transpose()) * z12.transpose())\n",
    "H =np.real(z11 * np.linalg.inv(a11) *b11 * np.linalg.inv(z11))\n",
    "\n",
    "# Print the policy function in the model\n",
    "print(\"Policy Function in the Model\")\n",
    "print ('n_t = %.2f * k_t' % (G[0,0]))\n",
    "print ('c_t = %.2f * k_t' % (G[1,0]))\n",
    "\n",
    "# Print the transition function in the model\n",
    "print(\"Transition Function in the Model\")\n",
    "print('k_t+1 = %.2f * k_t' %H )\n"
   ]
  },
  {
   "cell_type": "code",
   "execution_count": 22,
   "id": "294133d1",
   "metadata": {},
   "outputs": [
    {
     "data": {
      "text/plain": [
       "matrix([[0.7940313]])"
      ]
     },
     "execution_count": 22,
     "metadata": {},
     "output_type": "execute_result"
    }
   ],
   "source": [
    "H"
   ]
  },
  {
   "cell_type": "markdown",
   "id": "fa6382af",
   "metadata": {},
   "source": [
    "(g) Try to obtain the same policy and transition function using the library linearsolve"
   ]
  },
  {
   "cell_type": "code",
   "execution_count": 26,
   "id": "2b224ef4",
   "metadata": {},
   "outputs": [
    {
     "name": "stdout",
     "output_type": "stream",
     "text": [
      "Policy function  [[ 0.01532143]\n",
      " [-0.06054851]]\n",
      "Transition function:  [[0.81322813]]\n"
     ]
    },
    {
     "name": "stderr",
     "output_type": "stream",
     "text": [
      "C:\\Users\\Jerome Romano\\AppData\\Local\\Temp\\ipykernel_27132\\1773939474.py:29: RuntimeWarning: invalid value encountered in double_scalars\n",
      "  euler_eqn= (p.beta/fwd.c)*p.alpha*p.z*fwd.k**(p.alpha-1)*fwd.n**(1-p.alpha)+(1-p.delta) -1/cur.c\n",
      "C:\\Users\\Jerome Romano\\AppData\\Local\\Temp\\ipykernel_27132\\1773939474.py:34: RuntimeWarning: invalid value encountered in double_scalars\n",
      "  resource_constraint = -cur.c -fwd.k + p.z*cur.k**(p.alpha)*cur.n**(1-p.alpha) + (1-p.delta)*cur.k\n",
      "C:\\Users\\Jerome Romano\\AppData\\Local\\Temp\\ipykernel_27132\\1773939474.py:36: RuntimeWarning: invalid value encountered in double_scalars\n",
      "  labor_condition = (1-p.alpha)*p.z*cur.k**p.alpha*cur.n*(-p.alpha) - (cur.c*p.phi)/(1-cur.n)\n",
      "C:\\Users\\Jerome Romano\\AppData\\Local\\Temp\\ipykernel_27132\\1773939474.py:29: RuntimeWarning: invalid value encountered in double_scalars\n",
      "  euler_eqn= (p.beta/fwd.c)*p.alpha*p.z*fwd.k**(p.alpha-1)*fwd.n**(1-p.alpha)+(1-p.delta) -1/cur.c\n",
      "C:\\Users\\Jerome Romano\\AppData\\Local\\Temp\\ipykernel_27132\\1773939474.py:34: RuntimeWarning: invalid value encountered in double_scalars\n",
      "  resource_constraint = -cur.c -fwd.k + p.z*cur.k**(p.alpha)*cur.n**(1-p.alpha) + (1-p.delta)*cur.k\n",
      "C:\\Users\\Jerome Romano\\AppData\\Local\\Temp\\ipykernel_27132\\1773939474.py:36: RuntimeWarning: invalid value encountered in double_scalars\n",
      "  labor_condition = (1-p.alpha)*p.z*cur.k**p.alpha*cur.n*(-p.alpha) - (cur.c*p.phi)/(1-cur.n)\n",
      "C:\\ProgramData\\Anaconda3\\lib\\site-packages\\scipy\\optimize\\minpack.py:175: RuntimeWarning: The iteration is not making good progress, as measured by the \n",
      "  improvement from the last ten iterations.\n",
      "  warnings.warn(msg, RuntimeWarning)\n"
     ]
    }
   ],
   "source": [
    "import linearsolve as ls\n",
    "import pandas as pd\n",
    "\n",
    "\n",
    "parameters = pd.Series(dtype=float)\n",
    "parameters['alpha']  = 0.3\n",
    "parameters['beta']  = 0.98\n",
    "parameters['delta'] = 0.2\n",
    "parameters['phi'] = 0.5\n",
    "parameters['z'] = 1\n",
    "parameters['n'] = 1/3\n",
    "parameters['k'] = k\n",
    "parameters['c'] = c\n",
    "\n",
    "\n",
    "# Funtion that evaluates the equilibrium conditions\n",
    "def equations(variables_forward,variables_current,parameters):\n",
    "\n",
    "    # Parameters\n",
    "    p = parameters\n",
    "    \n",
    "     \n",
    "\n",
    "    # Variables\n",
    "    fwd = variables_forward\n",
    "    cur = variables_current\n",
    "\n",
    "    # Household Euler equation\n",
    "    euler_eqn= (p.beta/fwd.c)*p.alpha*p.z*fwd.k**(p.alpha-1)*fwd.n**(1-p.alpha)+(1-p.delta) -1/cur.c\n",
    "    \n",
    "\n",
    "\n",
    "    # Goods market clearing \n",
    "    resource_constraint = -cur.c -fwd.k + p.z*cur.k**(p.alpha)*cur.n**(1-p.alpha) + (1-p.delta)*cur.k\n",
    "    \n",
    "    labor_condition = (1-p.alpha)*p.z*cur.k**p.alpha*cur.n*(-p.alpha) - (cur.c*p.phi)/(1-cur.n)\n",
    "\n",
    "    # Stack equilibrium conditions into a numpy array\n",
    "    return np.array([\n",
    "            euler_eqn,\n",
    "            resource_constraint,\n",
    "            labor_condition\n",
    "        ])\n",
    "\n",
    "# Initialize the model\n",
    "model = ls.model(equations = equations,\n",
    "                 n_states=1,\n",
    "                 n_exo_states =0,\n",
    "                 var_names=['k','c', 'n'],\n",
    "                 parameters = parameters)\n",
    "\n",
    "# Compute the steady state numerically\n",
    "guess = [1,0.2,0.2]\n",
    "model.compute_ss(guess) # it compute the stady state\n",
    "\n",
    "model.approximate_and_solve(log_linear=0) \n",
    "model.solve_klein()\n",
    "\n",
    "print(\"Policy function \", model.f)\n",
    "print(\"Transition function: \", model.p)"
   ]
  },
  {
   "cell_type": "markdown",
   "id": "b4801ac1",
   "metadata": {},
   "source": [
    "My colleagues and I have tried unsuccessfully to achieve this point!"
   ]
  },
  {
   "cell_type": "code",
   "execution_count": null,
   "id": "06bbf811",
   "metadata": {},
   "outputs": [],
   "source": []
  }
 ],
 "metadata": {
  "kernelspec": {
   "display_name": "Python 3 (ipykernel)",
   "language": "python",
   "name": "python3"
  },
  "language_info": {
   "codemirror_mode": {
    "name": "ipython",
    "version": 3
   },
   "file_extension": ".py",
   "mimetype": "text/x-python",
   "name": "python",
   "nbconvert_exporter": "python",
   "pygments_lexer": "ipython3",
   "version": "3.9.12"
  }
 },
 "nbformat": 4,
 "nbformat_minor": 5
}
